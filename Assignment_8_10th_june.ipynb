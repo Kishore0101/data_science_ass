{
 "cells": [
  {
   "cell_type": "markdown",
   "id": "9501c5de",
   "metadata": {},
   "source": [
    "1. In Python, what is the difference between a built-in function and a user-defined function? Provide an\n",
    "example of each."
   ]
  },
  {
   "cell_type": "code",
   "execution_count": 3,
   "id": "89e6e724",
   "metadata": {},
   "outputs": [
    {
     "name": "stdout",
     "output_type": "stream",
     "text": [
      "hello\n",
      "5\n",
      "given number is odd\n"
     ]
    },
    {
     "data": {
      "text/plain": [
       "True"
      ]
     },
     "execution_count": 3,
     "metadata": {},
     "output_type": "execute_result"
    }
   ],
   "source": [
    "\"\"\"\n",
    "Built-in functions are functions that are already defined in the Python interpreter. \n",
    "They are available for use in any Python program, without the need to define them yourself.\n",
    "Some examples of built-in functions include print(), len(), and abs().\n",
    "\n",
    "\n",
    "\n",
    "User-defined functions are functions that you define yourself in your Python program.\n",
    "They can be used to perform any task that you want, and they can be reused as many times as you need.\n",
    "To define a user-defined function, you use the def keyword.\n",
    "\n",
    "\"\"\"\n",
    "#build-in-function\n",
    "example = \"hello\"\n",
    "print(example)\n",
    "print(len(example))\n",
    "\n",
    "\n",
    "#User-defined functions\n",
    "\n",
    "def even_num(n):\n",
    "    if n%2==0:\n",
    "        print(\"given number is even\")\n",
    "    else:\n",
    "        print(\"given number is odd\")\n",
    "    return True\n",
    "even_num(3)"
   ]
  },
  {
   "cell_type": "markdown",
   "id": "349867f8",
   "metadata": {},
   "source": [
    "2. How can you pass arguments to a function in Python? Explain the difference between positional\n",
    "arguments and keyword arguments."
   ]
  },
  {
   "cell_type": "code",
   "execution_count": 11,
   "id": "4f193787",
   "metadata": {},
   "outputs": [
    {
     "data": {
      "text/plain": [
       "12"
      ]
     },
     "execution_count": 11,
     "metadata": {},
     "output_type": "execute_result"
    }
   ],
   "source": [
    "\"\"\"\n",
    "Positional arguments are the arguments that are passed to a function in the order they are defined in the function's definition.\n",
    "\n",
    "\"\"\"\n",
    "\n",
    "def add_number(a,b):\n",
    "    return a+b\n",
    "add_number(5,6)#-----> passing arguments like this\n",
    "\n",
    "\n",
    "\"\"\"\n",
    "Keyword arguments are the arguments that are passed to a function by name. Keyword arguments can be passed in any order, and they can be used to override the default values of positional arguments. For example, the following function takes two positional arguments, \n",
    "but it also has a default value for the second argument\n",
    "\n",
    "\"\"\"\n",
    "def add_number_key(a,b=10):\n",
    "    return a+b\n",
    "\n",
    "print(add_numbers(1, 2))\n",
    "print(add_numbers(1, y=3))"
   ]
  },
  {
   "cell_type": "markdown",
   "id": "798d7bfd",
   "metadata": {},
   "source": [
    "3. What is the purpose of the return statement in a function? Can a function have multiple return\n",
    "statements? Explain with an example."
   ]
  },
  {
   "cell_type": "code",
   "execution_count": 12,
   "id": "1312c490",
   "metadata": {},
   "outputs": [
    {
     "data": {
      "text/plain": [
       "'given number is odd'"
      ]
     },
     "execution_count": 12,
     "metadata": {},
     "output_type": "execute_result"
    }
   ],
   "source": [
    "\"\"\"\n",
    "\n",
    "The return statement in Python is used to end the execution of a function and return a value to the caller.\n",
    "The value that is returned can be any Python object\n",
    "\n",
    "A function can have multiple return statements, but only one of them will be executed\n",
    "\n",
    "first return statement executed , then 2nd return statement terminated\n",
    "\n",
    "\n",
    "\"\"\"\n",
    "\n",
    "def even_num(n):\n",
    "    if n%2==0:\n",
    "        statement=\"given number is even\"\n",
    "        return statement\n",
    "    else:\n",
    "        statement_false=\"given number is odd\"\n",
    "        return statement_false\n",
    "even_num(3)"
   ]
  },
  {
   "cell_type": "markdown",
   "id": "9f9533e8",
   "metadata": {},
   "source": [
    "4. What are lambda functions in Python? How are they different from regular functions? Provide an\n",
    "example where a lambda function can be useful."
   ]
  },
  {
   "cell_type": "code",
   "execution_count": 14,
   "id": "f8a43f46",
   "metadata": {},
   "outputs": [
    {
     "name": "stdout",
     "output_type": "stream",
     "text": [
      "6\n",
      "<map object at 0x000001D42B8A6C40>\n"
     ]
    }
   ],
   "source": [
    "\"\"\"\n",
    "Lambda functions are unnamed. They do not have a name, so they cannot be called directly.\n",
    "Lambda functions can only have one expression. This means that they cannot have a block of code, like a regular function.\n",
    "Lambda functions are often used as inline functions. They are defined and used in the same line of code.\n",
    "\n",
    "\n",
    "\"\"\"\n",
    "\n",
    "example = lambda x: x * 2\n",
    "\n",
    "print(example(3))\n",
    "\n"
   ]
  },
  {
   "cell_type": "markdown",
   "id": "eba8162c",
   "metadata": {},
   "source": [
    "5. How does the concept of \"scope\" apply to functions in Python? Explain the difference between local\n",
    "scope and global scope."
   ]
  },
  {
   "cell_type": "code",
   "execution_count": 18,
   "id": "3bbb82d2",
   "metadata": {},
   "outputs": [
    {
     "name": "stdout",
     "output_type": "stream",
     "text": [
      "3\n"
     ]
    }
   ],
   "source": [
    "\"\"\"\n",
    "Local scope is the scope of a variable that is defined within a function.\n",
    "Variables in local scope are only visible within the function in which they are defined.\n",
    "\n",
    "\n",
    "Global scope is the scope of a variable that is defined outside of any function. \n",
    "Variables in global scope are visible from within any function in the program.\n",
    "\n",
    "\"\"\"\n",
    "\n",
    "#local Scope\n",
    "def add_number(a,b):\n",
    "    ans = a+b\n",
    "    return ans\n",
    "add_number(1,2)\n",
    "print(ans) #---->getting not defined error , because local scope not able to access out side function\n",
    "\n",
    "\n",
    "# globol scope\n",
    "def add_number(a,b):\n",
    "    global ans\n",
    "    ans = a+b\n",
    "    return True\n",
    "add_number(1,2)\n",
    "print(ans)"
   ]
  },
  {
   "cell_type": "markdown",
   "id": "624ae8d3",
   "metadata": {},
   "source": [
    "6. How can you use the \"return\" statement in a Python function to return multiple values?"
   ]
  },
  {
   "cell_type": "code",
   "execution_count": 19,
   "id": "59353482",
   "metadata": {},
   "outputs": [
    {
     "data": {
      "text/plain": [
       "[5, 6]"
      ]
     },
     "execution_count": 19,
     "metadata": {},
     "output_type": "execute_result"
    }
   ],
   "source": [
    "\"\"\"\n",
    "return statement to return multiple values from a function by simply separating them with commas in the return statement.\n",
    "or return list \n",
    "\n",
    "\"\"\"\n",
    "\n",
    "def given_number(a,b):\n",
    "    return a,b\n",
    "\n",
    "def given_list_number(a,b):\n",
    "    return [a,b]\n",
    "\n",
    "given_number(1,3)\n",
    "given_list_number(5,6)\n",
    "\n",
    "\n"
   ]
  },
  {
   "cell_type": "markdown",
   "id": "8f90dece",
   "metadata": {},
   "source": [
    "7. What is the difference between the \"pass by value\" and \"pass by reference\" concepts when it\n",
    "comes to function arguments in Python?"
   ]
  },
  {
   "cell_type": "code",
   "execution_count": 22,
   "id": "b32b7c11",
   "metadata": {},
   "outputs": [
    {
     "name": "stdout",
     "output_type": "stream",
     "text": [
      "10\n",
      "[1, 2, 3, 10]\n"
     ]
    }
   ],
   "source": [
    "\"\"\"\n",
    "Pass by value means that a copy of the value is passed to the function. \n",
    "Any changes made to the copy inside the function will not affect the original value.\n",
    "\n",
    "\n",
    "Pass by reference means that the reference to the value is passed to the function.\n",
    "Any changes made to the value inside the function will affect the original value.\n",
    "\n",
    "\"\"\"\n",
    "\n",
    "#pass by value\n",
    "\n",
    "def add_number(a):\n",
    "    a=10\n",
    "    return a\n",
    "\n",
    "a=10\n",
    "add_number(a)\n",
    "print(a)\n",
    "\n",
    "\n",
    "def change_list(list1):\n",
    "  \"\"\"Changes the list.\"\"\"\n",
    "  list1.append(10)\n",
    "\n",
    "list1 = [1, 2, 3]\n",
    "change_list(list1)\n",
    "\n",
    "print(list1)\n",
    "\n"
   ]
  },
  {
   "cell_type": "markdown",
   "id": "4ca7ff72",
   "metadata": {},
   "source": [
    "8. Create a function that can intake integer or decimal value and do following operations:\n",
    "a. Logarithmic function (log x)\n",
    "b. Exponential function (exp(x))\n",
    "c. Power function with base 2 (2\n",
    "x\n",
    ")\n",
    "\n",
    "d. Square root"
   ]
  },
  {
   "cell_type": "code",
   "execution_count": 25,
   "id": "336d0178",
   "metadata": {},
   "outputs": [
    {
     "name": "stdout",
     "output_type": "stream",
     "text": [
      "The logarithm of x is 2.302585092994046\n",
      "The exponential of x is 22026.465794806718\n",
      "2 to the power of x is 1024\n",
      "The square root of x is 3.1622776601683795\n"
     ]
    }
   ],
   "source": [
    "import math\n",
    "\n",
    "def mathematicl_logical(x):\n",
    "    \n",
    "    log_x = math.log(x)\n",
    "    exp_x = math.exp(x)\n",
    "    two_to_x = 2 ** x\n",
    "    square_root_x = math.sqrt(x)\n",
    "    return log_x, exp_x, two_to_x, square_root_x\n",
    "\n",
    "\n",
    "x = 10\n",
    "results = mathematicl_logical(x)\n",
    "\n",
    "print(\"The logarithm of x is\", results[0])\n",
    "print(\"The exponential of x is\", results[1])\n",
    "print(\"2 to the power of x is\", results[2])\n",
    "print(\"The square root of x is\", results[3])\n",
    "  \n"
   ]
  },
  {
   "cell_type": "markdown",
   "id": "9d01e8ea",
   "metadata": {},
   "source": [
    "9. Create a function that takes a full name as an argument and returns first name and last name."
   ]
  },
  {
   "cell_type": "code",
   "execution_count": 26,
   "id": "4cafc5f1",
   "metadata": {},
   "outputs": [
    {
     "name": "stdout",
     "output_type": "stream",
     "text": [
      "The first name is Kishore\n",
      "The last name is Kumar\n"
     ]
    }
   ],
   "source": [
    "def get_first_last_name(full_name):\n",
    "    first_name = full_name.split(\" \")[0]\n",
    "    last_name = full_name.split(\" \")[-1]\n",
    "    return first_name, last_name\n",
    "\n",
    "\n",
    "full_name = \"Kishore Kumar\"\n",
    "first_name, last_name = get_first_last_name(full_name)\n",
    "print(\"The first name is\", first_name)\n",
    "print(\"The last name is\", last_name)"
   ]
  },
  {
   "cell_type": "code",
   "execution_count": null,
   "id": "821cd8e8",
   "metadata": {},
   "outputs": [],
   "source": []
  }
 ],
 "metadata": {
  "kernelspec": {
   "display_name": "Python 3 (ipykernel)",
   "language": "python",
   "name": "python3"
  },
  "language_info": {
   "codemirror_mode": {
    "name": "ipython",
    "version": 3
   },
   "file_extension": ".py",
   "mimetype": "text/x-python",
   "name": "python",
   "nbconvert_exporter": "python",
   "pygments_lexer": "ipython3",
   "version": "3.9.12"
  }
 },
 "nbformat": 4,
 "nbformat_minor": 5
}
