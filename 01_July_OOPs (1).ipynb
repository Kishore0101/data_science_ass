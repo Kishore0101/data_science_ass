{
 "cells": [
  {
   "cell_type": "code",
   "execution_count": 1,
   "id": "53ca8a71",
   "metadata": {},
   "outputs": [],
   "source": [
    "#1 . What is the primary goal of Object-Oriented Programming (OOP)?\n"
   ]
  },
  {
   "cell_type": "code",
   "execution_count": 2,
   "id": "c0e2f152",
   "metadata": {},
   "outputs": [
    {
     "data": {
      "text/plain": [
       "'\\n\\nThe primary goal of Object-Oriented Programming (OOP) is to **create software that is more robust, adaptable, and reusable. \\nThis is achieved by organizing software around objects, which are self-contained units of data and behavior. \\nObjects can interact with each other through messages, which allows them to be easily reused and modified.\\n\\n\\nReusability: Objects can be reused in different programs, which can save time and effort in development.\\nRobustness: Objects can be encapsulated, which means that their internal data and behavior are hidden from other objects. This makes them more difficult to corrupt and makes it easier to maintain and debug code.\\nAdaptability: Objects can be easily modified to meet new requirements. This is because they are not tightly coupled to other objects, and they can be easily replaced or extended.\\n\\n\\n'"
      ]
     },
     "execution_count": 2,
     "metadata": {},
     "output_type": "execute_result"
    }
   ],
   "source": [
    "\"\"\"\n",
    "\n",
    "The primary goal of Object-Oriented Programming (OOP) is to **create software that is more robust, adaptable, and reusable. \n",
    "This is achieved by organizing software around objects, which are self-contained units of data and behavior. \n",
    "Objects can interact with each other through messages, which allows them to be easily reused and modified.\n",
    "\n",
    "\n",
    "Reusability: Objects can be reused in different programs, which can save time and effort in development.\n",
    "Robustness: Objects can be encapsulated, which means that their internal data and behavior are hidden from other objects. This makes them more difficult to corrupt and makes it easier to maintain and debug code.\n",
    "Adaptability: Objects can be easily modified to meet new requirements. This is because they are not tightly coupled to other objects, and they can be easily replaced or extended.\n",
    "\n",
    "\n",
    "\"\"\""
   ]
  },
  {
   "cell_type": "code",
   "execution_count": 3,
   "id": "60e31853",
   "metadata": {},
   "outputs": [],
   "source": [
    "#2 . What is an object in Python?"
   ]
  },
  {
   "cell_type": "code",
   "execution_count": 4,
   "id": "d0436ee8",
   "metadata": {},
   "outputs": [
    {
     "data": {
      "text/plain": [
       "'\\n\\nAn object in Python is a self-contained unit of data and behavior. It is created by defining a class,\\nwhich is a blueprint for creating objects. Objects can interact with each other through messages,\\nwhich allows them to be easily reused and modified.\\n\\n\\nData: Objects can store data in variables. These variables are called attributes.\\nBehavior: Objects can perform actions. These actions are called methods.\\nEncapsulation: The data and behavior of an object are encapsulated, which means that they are hidden from other objects. This makes it easier to maintain and modify code.\\nInheritance: Objects can inherit the properties and behavior of other objects. This makes it easier to create new objects and reduces code duplication.\\nPolymorphism: Objects can respond to the same message in different ways. This makes it easier to create flexible and extensible code\\n\\n'"
      ]
     },
     "execution_count": 4,
     "metadata": {},
     "output_type": "execute_result"
    }
   ],
   "source": [
    "\"\"\"\n",
    "\n",
    "An object in Python is a self-contained unit of data and behavior. It is created by defining a class,\n",
    "which is a blueprint for creating objects. Objects can interact with each other through messages,\n",
    "which allows them to be easily reused and modified.\n",
    "\n",
    "\n",
    "\"\"\""
   ]
  },
  {
   "cell_type": "code",
   "execution_count": 5,
   "id": "0ca60714",
   "metadata": {},
   "outputs": [],
   "source": [
    "# 3 . What is a class in Python?"
   ]
  },
  {
   "cell_type": "code",
   "execution_count": 6,
   "id": "b10994f0",
   "metadata": {},
   "outputs": [
    {
     "data": {
      "text/plain": [
       "'\\nA class in Python is a blueprint for creating objects. \\nIt is a way of organizing data and behavior together.\\nClasses are used to create objects that share the same properties and methods.\\n\\n\\nData           : Classes can store data in variables. These variables are called attributes.\\nBehavior       : Classes can perform actions. These actions are called methods.\\nEncapsulation  : The data and behavior of a class are encapsulated, which means that they are hidden from other objects. This makes it easier to maintain and modify code.\\nInheritance    : Classes can inherit the properties and behavior of other classes. This makes it easier to create new classes and reduces code duplication.\\nPolymorphism   : Classes can respond to the same message in different ways. This makes it easier to create flexible and extensible code.\\n\\n\\n'"
      ]
     },
     "execution_count": 6,
     "metadata": {},
     "output_type": "execute_result"
    }
   ],
   "source": [
    "\"\"\"\n",
    "A class in Python is a blueprint for creating objects. \n",
    "It is a way of organizing data and behavior together.\n",
    "Classes are used to create objects that share the same properties and methods.\n",
    "\n",
    "\n",
    "Data           : Classes can store data in variables. These variables are called attributes.\n",
    "Behavior       : Classes can perform actions. These actions are called methods.\n",
    "Encapsulation  : The data and behavior of a class are encapsulated, which means that they are hidden from other objects. This makes it easier to maintain and modify code.\n",
    "Inheritance    : Classes can inherit the properties and behavior of other classes. This makes it easier to create new classes and reduces code duplication.\n",
    "Polymorphism   : Classes can respond to the same message in different ways. This makes it easier to create flexible and extensible code.\n",
    "\n",
    "\n",
    "\"\"\""
   ]
  },
  {
   "cell_type": "code",
   "execution_count": 7,
   "id": "b0b28b1c",
   "metadata": {},
   "outputs": [],
   "source": [
    "#4 What are attributes and methods in a class?"
   ]
  },
  {
   "cell_type": "code",
   "execution_count": 8,
   "id": "f60d20f4",
   "metadata": {},
   "outputs": [
    {
     "data": {
      "text/plain": [
       "'\\nAttributes:\\n\\nAttributes are variables that are associated with a class or an object. They can be used to store data about the class or object, such as its name, age, or weight. Attributes are defined in the class definition,\\nand they can be accessed by using the dot notation.\\n\\n@example\\n\\nclass Person:\\n    name = \"John Doe\"\\n\\n\\nperson = Person()\\nprint(person.name)\\n\\n\\n\\nMethods:\\n\\nMethods are functions that are associated with a class or an object.\\nThey can be used to perform actions on the class or object, such as adding, removing, or updating data. \\nMethods are defined in the class definition, and they can be called by using the dot notation.\\n\\n@example\\n\\nclass Person:\\n    def say_hello(self):\\n        print(\"Hello, my name is John Doe\")\\n\\n\\nperson = Person()\\nperson.say_hello()\\n\\n\\n\\n'"
      ]
     },
     "execution_count": 8,
     "metadata": {},
     "output_type": "execute_result"
    }
   ],
   "source": [
    "\"\"\"\n",
    "Attributes:\n",
    "\n",
    "Attributes are variables that are associated with a class or an object. They can be used to store data about the class or object, such as its name, age, or weight. Attributes are defined in the class definition,\n",
    "and they can be accessed by using the dot notation.\n",
    "\n",
    "@example\n",
    "\n",
    "class Person:\n",
    "    name = \"John Doe\"\n",
    "\n",
    "\n",
    "person = Person()\n",
    "print(person.name)\n",
    "\n",
    "\n",
    "\n",
    "Methods:\n",
    "\n",
    "Methods are functions that are associated with a class or an object.\n",
    "They can be used to perform actions on the class or object, such as adding, removing, or updating data. \n",
    "Methods are defined in the class definition, and they can be called by using the dot notation.\n",
    "\n",
    "@example\n",
    "\n",
    "class Person:\n",
    "    def say_hello(self):\n",
    "        print(\"Hello, my name is John Doe\")\n",
    "\n",
    "\n",
    "person = Person()\n",
    "person.say_hello()\n",
    "\n",
    "\n",
    "\n",
    "\"\"\""
   ]
  },
  {
   "cell_type": "code",
   "execution_count": 9,
   "id": "a9abc64e",
   "metadata": {},
   "outputs": [],
   "source": [
    "#5 What is the difference between class variables and instance variables in Python?"
   ]
  },
  {
   "cell_type": "code",
   "execution_count": 10,
   "id": "530a2a10",
   "metadata": {},
   "outputs": [
    {
     "data": {
      "text/plain": [
       "'\\nClass variables ------>are shared by all instances of a class.\\nThis means that if you change the value of a class variable in one instance, the value will change for all instances of the class.\\nClass variables are defined outside of any methods, and they are prefixed with the class keyword.\\n\\n\\n\\nInstance variables ----> are unique to each instance of a class.\\nThis means that if you change the value of an instance variable in one instance,\\nthe value will not change for other instances of the class. Instance variables are defined inside methods,\\nand they are not prefixed with any keyword.\\n\\n\\n\\n'"
      ]
     },
     "execution_count": 10,
     "metadata": {},
     "output_type": "execute_result"
    }
   ],
   "source": [
    "\"\"\"\n",
    "Class variables ------>are shared by all instances of a class.\n",
    "This means that if you change the value of a class variable in one instance, the value will change for all instances of the class.\n",
    "Class variables are defined outside of any methods, and they are prefixed with the class keyword.\n",
    "\n",
    "\n",
    "\n",
    "Instance variables ----> are unique to each instance of a class.\n",
    "This means that if you change the value of an instance variable in one instance,\n",
    "the value will not change for other instances of the class. Instance variables are defined inside methods,\n",
    "and they are not prefixed with any keyword.\n",
    "\n",
    "\n",
    "\n",
    "\"\"\""
   ]
  },
  {
   "cell_type": "code",
   "execution_count": 11,
   "id": "ebcb3845",
   "metadata": {},
   "outputs": [],
   "source": [
    "#6. What is the purpose of the self parameter in Python class methods?"
   ]
  },
  {
   "cell_type": "code",
   "execution_count": 12,
   "id": "95d4eca5",
   "metadata": {},
   "outputs": [
    {
     "data": {
      "text/plain": [
       "'\\nThe self parameter in Python class methods is a reference to the current instance of the class.\\nIt is used to access the attributes and methods of the class, \\nand it is also used to pass the instance to the method.\\n\\n\\nIt makes the code more readable and maintainable.\\nIt allows you to access the attributes and methods of the class.\\nIt allows you to pass the instance to the method.\\n\\n'"
      ]
     },
     "execution_count": 12,
     "metadata": {},
     "output_type": "execute_result"
    }
   ],
   "source": [
    "\"\"\"\n",
    "The self parameter in Python class methods is a reference to the current instance of the class.\n",
    "It is used to access the attributes and methods of the class, \n",
    "and it is also used to pass the instance to the method.\n",
    "\n",
    "\n",
    "It makes the code more readable and maintainable.\n",
    "It allows you to access the attributes and methods of the class.\n",
    "It allows you to pass the instance to the method.\n",
    "\n",
    "\"\"\""
   ]
  },
  {
   "cell_type": "code",
   "execution_count": 15,
   "id": "d9b14514",
   "metadata": {},
   "outputs": [],
   "source": [
    "#7 \n",
    "\n",
    "\"\"\"\n",
    "For a library management system, you have to design the \"Book\" class with OOP\n",
    "principles in mind. The “Book” class will have following attributes:\n",
    "\n",
    "\n",
    "a. title: Represents the title of the book.\n",
    "b. author: Represents the author(s) of the book.\n",
    "c. isbn: Represents the ISBN (International Standard Book Number) of the book.\n",
    "d. publication_year: Represents the year of publication of the book.\n",
    "e. available_copies: Represents the number of copies available for checkout.\n",
    "The class will also include the following methods:\n",
    "a. check_out(self): Decrements the available copies by one if there are copies\n",
    "available for checkout.\n",
    "b. return_book(self): Increments the available copies by one when a book is\n",
    "returned.\n",
    "c. display_book_info(self): Displays the information about the book, including its\n",
    "attributes and the number of available copies.\n",
    "\n",
    "\n",
    "\"\"\""
   ]
  },
  {
   "cell_type": "code",
   "execution_count": 27,
   "id": "1b0df271",
   "metadata": {},
   "outputs": [
    {
     "name": "stdout",
     "output_type": "stream",
     "text": [
      "Title: Rich dad Poor das\n",
      "Author(s): Robert\n",
      "ISBN: 123456789\n",
      "Publication Year: 1998\n",
      "Available Copies: 10\n",
      "A copy of 'Rich dad Poor das' has been checked out.\n",
      "A copy of 'Rich dad Poor das' has been returned. 10 copy(s) available.\n"
     ]
    }
   ],
   "source": [
    "class Book:\n",
    "    def __init__(self, title, author, isbn, publication_year, available_copies):\n",
    "        self.title = title\n",
    "        self.author = author\n",
    "        self.isbn = isbn\n",
    "        self.publication_year = publication_year\n",
    "        self.available_copies = available_copies\n",
    "    \n",
    "    def check_out(self):\n",
    "        self.available_copies -= 1 if self.available_copies > 0 else 0\n",
    "        print(f\"A copy of '{self.title}' has been checked out.\")\n",
    "    \n",
    "    def return_book(self):\n",
    "        self.available_copies += 1\n",
    "        print(f\"A copy of '{self.title}' has been returned. {self.available_copies} copy(s) available.\")\n",
    "    \n",
    "    def display_book_info(self):\n",
    "        print(f\"Title: {self.title}\")\n",
    "        print(f\"Author(s): {self.author}\")\n",
    "        print(f\"ISBN: {self.isbn}\")\n",
    "        print(f\"Publication Year: {self.publication_year}\")\n",
    "        print(f\"Available Copies: {self.available_copies}\")\n",
    "\n",
    "# Creating an instance of the Book class\n",
    "book1 = Book(\"Rich dad Poor dad\", \"Robert\", \"123456789\", 1998, 10)  # No available copies\n",
    "\n",
    "# Using methods of the Book class\n",
    "book1.display_book_info()\n",
    "book1.check_out()  # This will call check_o|ut method\n",
    "book1.return_book() # This will call return_book method\n",
    "\n"
   ]
  },
  {
   "cell_type": "code",
   "execution_count": 16,
   "id": "da29199b",
   "metadata": {},
   "outputs": [],
   "source": [
    "#8 \n",
    "\"\"\"\n",
    "\n",
    "For a ticket booking system, you have to design the \"Ticket\" class with OOP\n",
    "principles in mind. The “Ticket” class should have the following attributes:\n",
    "a. ticket_id: Represents the unique identifier for the ticket.\n",
    "b. event_name: Represents the name of the event.\n",
    "c. event_date: Represents the date of the event.\n",
    "d. venue: Represents the venue of the event.\n",
    "e. seat_number: Represents the seat number associated with the ticket.\n",
    "f. price: Represents the price of the ticket.\n",
    "g. is_reserved: Represents the reservation status of the ticket.\n",
    "The class also includes the following methods:\n",
    "a. reserve_ticket(self): Marks the ticket as reserved if it is not already reserved.\n",
    "b. cancel_reservation(self): Cancels the reservation of the ticket if it is already\n",
    "reserved.\n",
    "c. display_ticket_info(self): Displays the information about the ticket, including its\n",
    "attributes and reservation status.\n",
    "\n",
    "\n",
    "\"\"\""
   ]
  },
  {
   "cell_type": "code",
   "execution_count": 35,
   "id": "0e7ad574",
   "metadata": {
    "scrolled": true
   },
   "outputs": [
    {
     "name": "stdout",
     "output_type": "stream",
     "text": [
      "<__main__.Ticket object at 0x00000265A43A1610>\n",
      "Ticket is already reserved\n",
      "Ticket ID: 1\n",
      "Event name: leo\n",
      "Event date: 2023-12-12\n",
      "Venue: Guru\n",
      "Seat number: 11\n",
      "Price: 500\n",
      "Reservation status: False\n"
     ]
    }
   ],
   "source": [
    "class Ticket:\n",
    "    def __init__(self, ticket_id, event_name, event_date, venue, seat_number, price, is_reserved):\n",
    "        self.ticket_id = ticket_id\n",
    "        self.event_name = event_name\n",
    "        self.event_date = event_date\n",
    "        self.venue = venue\n",
    "        self.seat_number = seat_number\n",
    "        self.price = price\n",
    "        self.is_reserved = is_reserved\n",
    "    def reserve_ticket(self):\n",
    "        if self.is_reserved:\n",
    "            print(\"Ticket is already reserved\")\n",
    "        else:\n",
    "            self.is_reserved = True\n",
    "\n",
    "    def cancel_reservation(self):\n",
    "        if not self.is_reserved:\n",
    "            print(\"Ticket is not reserved\")\n",
    "        else:\n",
    "            self.is_reserved = False\n",
    "\n",
    "    def display_ticket_info(self):\n",
    "        print(f\"Ticket ID: {self.ticket_id}\")\n",
    "        print(f\"Event name: {self.event_name}\")\n",
    "        print(f\"Event date: {self.event_date}\")\n",
    "        print(f\"Venue: {self.venue}\")\n",
    "        print(f\"Seat number: {self.seat_number}\")\n",
    "        print(f\"Price: {self.price}\")\n",
    "        print(f\"Reservation status: {self.is_reserved}\")\n",
    "\n",
    "\n",
    "ticket = Ticket(1, \"leo\", \"2023-12-12\", \"Guru\", 11, 500, True)\n",
    "print(ticket)\n",
    "\n",
    "ticket.reserve_ticket()\n",
    "ticket.cancel_reservation()\n",
    "ticket.display_ticket_info()\n",
    "\n",
    "        \n",
    "        \n",
    "        \n",
    "    "
   ]
  },
  {
   "cell_type": "code",
   "execution_count": 36,
   "id": "f3100220",
   "metadata": {},
   "outputs": [
    {
     "data": {
      "text/plain": [
       "'\\nYou are creating a shopping cart for an e-commerce website. Using OOP to model\\nthe \"ShoppingCart\" functionality the class should contain following attributes and\\nmethods:\\na. items: Represents the list of items in the shopping cart.\\nThe class also includes the following methods:\\n\\na. add_item(self, item): Adds an item to the shopping cart by appending it to the\\nlist of items.\\nb. remove_item(self, item): Removes an item from the shopping cart if it exists in\\nthe list.\\nc. view_cart(self): Displays the items currently present in the shopping cart.\\nd. clear_cart(self): Clears all items from the shopping cart by reassigning an\\nempty list to the items attribute.\\n\\n'"
      ]
     },
     "execution_count": 36,
     "metadata": {},
     "output_type": "execute_result"
    }
   ],
   "source": [
    "#9 \n",
    "\"\"\"\n",
    "You are creating a shopping cart for an e-commerce website. Using OOP to model\n",
    "the \"ShoppingCart\" functionality the class should contain following attributes and\n",
    "methods:\n",
    "a. items: Represents the list of items in the shopping cart.\n",
    "The class also includes the following methods:\n",
    "\n",
    "a. add_item(self, item): Adds an item to the shopping cart by appending it to the\n",
    "list of items.\n",
    "b. remove_item(self, item): Removes an item from the shopping cart if it exists in\n",
    "the list.\n",
    "c. view_cart(self): Displays the items currently present in the shopping cart.\n",
    "d. clear_cart(self): Clears all items from the shopping cart by reassigning an\n",
    "empty list to the items attribute.\n",
    "\n",
    "\"\"\""
   ]
  },
  {
   "cell_type": "code",
   "execution_count": 44,
   "id": "cbdd4963",
   "metadata": {},
   "outputs": [
    {
     "name": "stdout",
     "output_type": "stream",
     "text": [
      "Your Apple Item Added\n",
      "Your Orange Item Added\n",
      "Your available Item \n",
      "1 : Apple\n",
      "2 : Orange\n",
      "Your Orange Item Removed \n",
      "Your available Item \n",
      "1 : Apple\n",
      "your cart cleared...\n"
     ]
    }
   ],
   "source": [
    "class ShoppingCart:\n",
    "    def __init__(self):\n",
    "        self.items = []\n",
    "    def add_item(self,add_item):\n",
    "        add_item_list = self.items\n",
    "        add_item_list.append(add_item)\n",
    "        print(f\"Your {add_item} Item Added\")\n",
    "    def remove_item(self,remove_item):\n",
    "        remove_item_list = self.items\n",
    "        remove_item_list.remove(remove_item)\n",
    "        print(f\"Your {remove_item} Item Removed \")\n",
    "       \n",
    "    def view_cart(self):\n",
    "        view_item_list = self.items\n",
    "        if len(view_item_list) != 0:\n",
    "            print(\"Your available Item \")\n",
    "            for idx,items in enumerate(view_item_list):\n",
    "                print(f\"{idx+1} : {items}\")\n",
    "        else:\n",
    "            print(\"Your cart was Empty\")\n",
    "    def clear_cart(self):\n",
    "        clear_item_list = self.items\n",
    "        if len(clear_item_list) != 0:\n",
    "            clear_item_list.pop()\n",
    "            print(\"your cart cleared...\")\n",
    "        else:\n",
    "            print(\"Your cart already Empty\")\n",
    "        \n",
    "shop = ShoppingCart()\n",
    "shop.add_item(\"Apple\")\n",
    "shop.add_item(\"Orange\")\n",
    "shop.view_cart()\n",
    "shop.remove_item(\"Orange\")\n",
    "shop.view_cart()\n",
    "shop.clear_cart()\n",
    "        \n",
    "    "
   ]
  },
  {
   "cell_type": "code",
   "execution_count": 45,
   "id": "cb170338",
   "metadata": {},
   "outputs": [
    {
     "data": {
      "text/plain": [
       "'\\n10. Imagine a school management system. You have to design the \"Student\" class using\\nOOP concepts.The “Student” class has the following attributes:\\na. name: Represents the name of the student.\\nb. age: Represents the age of the student.\\nc. grade: Represents the grade or class of the student.\\nd. student_id: Represents the unique identifier for the student.\\ne. attendance: Represents the attendance record of the student.\\nThe class should also include the following methods:\\na. update_attendance(self, date, status): Updates the attendance record of the\\nstudent for a given date with the provided status (e.g., present or absent).\\nb. get_attendance(self): Returns the attendance record of the student.\\nc. get_average_attendance(self): Calculates and returns the average\\nattendance percentage of the student based on their attendance record.\\n\\n'"
      ]
     },
     "execution_count": 45,
     "metadata": {},
     "output_type": "execute_result"
    }
   ],
   "source": [
    "#10\n",
    "\"\"\"\n",
    "10. Imagine a school management system. You have to design the \"Student\" class using\n",
    "OOP concepts.The “Student” class has the following attributes:\n",
    "a. name: Represents the name of the student.\n",
    "b. age: Represents the age of the student.\n",
    "c. grade: Represents the grade or class of the student.\n",
    "d. student_id: Represents the unique identifier for the student.\n",
    "e. attendance: Represents the attendance record of the student.\n",
    "The class should also include the following methods:\n",
    "a. update_attendance(self, date, status): Updates the attendance record of the\n",
    "student for a given date with the provided status (e.g., present or absent).\n",
    "b. get_attendance(self): Returns the attendance record of the student.\n",
    "c. get_average_attendance(self): Calculates and returns the average\n",
    "attendance percentage of the student based on their attendance record.\n",
    "\n",
    "\"\"\""
   ]
  },
  {
   "cell_type": "code",
   "execution_count": 47,
   "id": "01658725",
   "metadata": {},
   "outputs": [
    {
     "name": "stdout",
     "output_type": "stream",
     "text": [
      "[('2023-08-01', 'present'), ('2023-08-02', 'absent')]\n",
      "50.0\n"
     ]
    }
   ],
   "source": [
    "class Student:\n",
    "    def __init__(self, name, age, grade, student_id):\n",
    "        self.name = name\n",
    "        self.age = age\n",
    "        self.grade = grade\n",
    "        self.student_id = student_id\n",
    "        self.attendance = []\n",
    "\n",
    "    def update_attendance(self, date, status):\n",
    "        self.attendance.append((date, status))\n",
    "\n",
    "    def get_attendance(self):\n",
    "        return self.attendance\n",
    "\n",
    "    def get_average_attendance(self):\n",
    "        total_days = len(self.attendance)\n",
    "        present_days = sum(1 for date, status in self.attendance if status == \"present\")\n",
    "        average_attendance = (present_days / total_days) * 100\n",
    "        return average_attendance\n",
    "\n",
    "\n",
    "\n",
    "student = Student(\"kishore\", 19, 1, 98987)\n",
    "student.update_attendance(\"2023-08-01\", \"present\")\n",
    "student.update_attendance(\"2023-08-02\", \"absent\")\n",
    "print(student.get_attendance())\n",
    "print(student.get_average_attendance())\n",
    "\n"
   ]
  },
  {
   "cell_type": "code",
   "execution_count": null,
   "id": "fc62057a",
   "metadata": {},
   "outputs": [],
   "source": []
  }
 ],
 "metadata": {
  "kernelspec": {
   "display_name": "Python 3 (ipykernel)",
   "language": "python",
   "name": "python3"
  },
  "language_info": {
   "codemirror_mode": {
    "name": "ipython",
    "version": 3
   },
   "file_extension": ".py",
   "mimetype": "text/x-python",
   "name": "python",
   "nbconvert_exporter": "python",
   "pygments_lexer": "ipython3",
   "version": "3.9.12"
  }
 },
 "nbformat": 4,
 "nbformat_minor": 5
}
