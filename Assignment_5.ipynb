{
 "cells": [
  {
   "cell_type": "markdown",
   "id": "582fffe4",
   "metadata": {},
   "source": [
    "1. What does an empty dictionary&#39;s code look like?"
   ]
  },
  {
   "cell_type": "code",
   "execution_count": 3,
   "id": "68ec6be6",
   "metadata": {},
   "outputs": [
    {
     "name": "stdout",
     "output_type": "stream",
     "text": [
      "{}\n",
      "{}\n"
     ]
    }
   ],
   "source": [
    "#two ways to create empty dict\n",
    "my_dict = {}\n",
    "my_dict_1 = dict()\n",
    "print(my_dict)\n",
    "print(my_dict_1)"
   ]
  },
  {
   "cell_type": "markdown",
   "id": "ee6fa58b",
   "metadata": {},
   "source": [
    "2. What is the value of a dictionary value with the key &#39;foo&#39; and the value 42?"
   ]
  },
  {
   "cell_type": "code",
   "execution_count": 4,
   "id": "2b5f23ad",
   "metadata": {},
   "outputs": [
    {
     "name": "stdout",
     "output_type": "stream",
     "text": [
      "42\n"
     ]
    }
   ],
   "source": [
    "my_dict = {'foo': 42}\n",
    "print(my_dict['foo'])"
   ]
  },
  {
   "cell_type": "markdown",
   "id": "24c51a84",
   "metadata": {},
   "source": [
    "3. What is the most significant distinction between a dictionary and a list?"
   ]
  },
  {
   "cell_type": "code",
   "execution_count": null,
   "id": "c325a311",
   "metadata": {},
   "outputs": [],
   "source": [
    "\"\"\"\n",
    "#dict\n",
    "dictionary is an unordered collection of key-value pairs\n",
    "the keys are unique and the values can be of any type\n",
    "performance--->faster\n",
    "\n",
    "\n",
    "#list\n",
    "list is an ordered collection of elements.\n",
    "The elements in a list can be of any type\n",
    "performance--->slower\n",
    "\n",
    "\n",
    "\n",
    "\"\"\""
   ]
  },
  {
   "cell_type": "markdown",
   "id": "28d04adc",
   "metadata": {},
   "source": [
    "4. What happens if you try to access spam[&#39;foo&#39;] if spam is {&#39;bar&#39;: 100}?"
   ]
  },
  {
   "cell_type": "code",
   "execution_count": 5,
   "id": "8cf39018",
   "metadata": {},
   "outputs": [
    {
     "ename": "KeyError",
     "evalue": "'foo'",
     "output_type": "error",
     "traceback": [
      "\u001b[1;31m---------------------------------------------------------------------------\u001b[0m",
      "\u001b[1;31mKeyError\u001b[0m                                  Traceback (most recent call last)",
      "Input \u001b[1;32mIn [5]\u001b[0m, in \u001b[0;36m<cell line: 3>\u001b[1;34m()\u001b[0m\n\u001b[0;32m      1\u001b[0m \u001b[38;5;66;03m#key is not available in spam dict , so return key error\u001b[39;00m\n\u001b[0;32m      2\u001b[0m spam \u001b[38;5;241m=\u001b[39m  {\u001b[38;5;124m'\u001b[39m\u001b[38;5;124mbar\u001b[39m\u001b[38;5;124m'\u001b[39m: \u001b[38;5;241m100\u001b[39m}\n\u001b[1;32m----> 3\u001b[0m \u001b[38;5;28mprint\u001b[39m(\u001b[43mspam\u001b[49m\u001b[43m[\u001b[49m\u001b[38;5;124;43m'\u001b[39;49m\u001b[38;5;124;43mfoo\u001b[39;49m\u001b[38;5;124;43m'\u001b[39;49m\u001b[43m]\u001b[49m)\n",
      "\u001b[1;31mKeyError\u001b[0m: 'foo'"
     ]
    }
   ],
   "source": [
    "#key is not available in spam dict , so return key error\n",
    "spam =  {'bar': 100}\n",
    "print(spam['foo'])"
   ]
  },
  {
   "cell_type": "markdown",
   "id": "189d14a7",
   "metadata": {},
   "source": [
    "5. If a dictionary is stored in spam, what is the difference between the expressions &#39;cat&#39; in spam and\n",
    "&#39;cat&#39; in spam.keys()?"
   ]
  },
  {
   "cell_type": "code",
   "execution_count": 7,
   "id": "6a866641",
   "metadata": {},
   "outputs": [
    {
     "name": "stdout",
     "output_type": "stream",
     "text": [
      "True\n",
      "True\n",
      "False\n",
      "False\n"
     ]
    },
    {
     "data": {
      "text/plain": [
       "\"\\n\\nAs you can see, the expression 'cat' in spam returns True in both cases, because the key cat exists in the dictionary spam.\\nHowever, the expression 'dog' in spam returns False in the first case, \\nbecause the key dog does not exist in the dictionary spam, but returns True in the second case,\\nbecause the value dog exists as a value in the dictionary spam.\\n\\n\\n\""
      ]
     },
     "execution_count": 7,
     "metadata": {},
     "output_type": "execute_result"
    }
   ],
   "source": [
    "\"\"\"\n",
    "The difference between the expressions 'cat' in spam and 'cat' in spam.keys() is that the first expression checks if the key cat exists in the dictionary spam, \n",
    "while the second expression checks if the value cat exists as a value in the dictionary spam.\n",
    "\n",
    "\"\"\"\n",
    "spam = {'cat': 100, 'dog': 200}\n",
    "\n",
    "print('cat' in spam) # True\n",
    "print('cat' in spam.keys()) # True\n",
    "\n",
    "spam = {'cat': 100}\n",
    "\n",
    "print('dog' in spam) # False\n",
    "print('dog' in spam.keys()) # False\n",
    "\n",
    "\"\"\"\n",
    "\n",
    "As you can see, the expression 'cat' in spam returns True in both cases, because the key cat exists in the dictionary spam.\n",
    "However, the expression 'dog' in spam returns False in the first case, \n",
    "because the key dog does not exist in the dictionary spam, but returns True in the second case,\n",
    "because the value dog exists as a value in the dictionary spam.\n",
    "\n",
    "\n",
    "\"\"\"\n"
   ]
  },
  {
   "cell_type": "markdown",
   "id": "3a3dbe50",
   "metadata": {},
   "source": [
    "6. If a dictionary is stored in spam, what is the difference between the expressions &#39;cat&#39; in spam and\n",
    "&#39;cat&#39; in spam.values()?"
   ]
  },
  {
   "cell_type": "code",
   "execution_count": 8,
   "id": "19102d6a",
   "metadata": {},
   "outputs": [
    {
     "name": "stdout",
     "output_type": "stream",
     "text": [
      "True\n",
      "False\n",
      "False\n",
      "False\n"
     ]
    },
    {
     "data": {
      "text/plain": [
       "\"\\nAs you can see, the expression 'cat' in spam returns True in both cases,\\nbecause the key cat exists in the dictionary spam.\\nHowever, the expression 'dog' in spam returns False in the first case,\\nbecause the key dog does not exist in the dictionary spam, but returns True in the second case,\\nbecause the value dog exists as a value in the dictionary spam.\\n\\n\""
      ]
     },
     "execution_count": 8,
     "metadata": {},
     "output_type": "execute_result"
    }
   ],
   "source": [
    "\"\"\"\n",
    "\n",
    "The difference between the expressions 'cat' in spam and 'cat' in spam.values() is that \n",
    "the first expression checks if the key cat exists in the dictionary spam,\n",
    "while the second expression checks if the value cat exists as a value in the dictionary spam.\n",
    "\n",
    "\"\"\"\n",
    "\n",
    "spam = {'cat': 100, 'dog': 200}\n",
    "\n",
    "print('cat' in spam) # True\n",
    "print('cat' in spam.values()) # False\n",
    "\n",
    "spam = {'cat': 100}\n",
    "\n",
    "print('dog' in spam) # False\n",
    "print('dog' in spam.values()) # False\n",
    "\n",
    "\"\"\"\n",
    "As you can see, the expression 'cat' in spam returns True in both cases,\n",
    "because the key cat exists in the dictionary spam.\n",
    "However, the expression 'dog' in spam returns False in the first case,\n",
    "because the key dog does not exist in the dictionary spam, but returns True in the second case,\n",
    "because the value dog exists as a value in the dictionary spam.\n",
    "\n",
    "\"\"\""
   ]
  },
  {
   "cell_type": "markdown",
   "id": "32ff6964",
   "metadata": {},
   "source": [
    "7. What is a shortcut for the following code?\n",
    "if &#39;color&#39; not in spam:\n",
    "spam[&#39;color&#39;] = &#39;black&#39;"
   ]
  },
  {
   "cell_type": "code",
   "execution_count": 9,
   "id": "994fcefd",
   "metadata": {},
   "outputs": [
    {
     "name": "stdout",
     "output_type": "stream",
     "text": [
      "{'color': 'black'}\n"
     ]
    }
   ],
   "source": [
    "spam = {}\n",
    "\n",
    "spam.setdefault('color', 'black')\n",
    "\n",
    "print(spam)\n",
    "\n",
    "# Output: {'color': 'black'}\n",
    "\n",
    "\"\"\"\n",
    "the setdefault() method created a new key-value pair with the key color and the default value black.\n",
    "The dictionary spam now contains the key-value pair color: black.\n",
    "\n",
    "\"\"\""
   ]
  },
  {
   "cell_type": "markdown",
   "id": "d6fdf88a",
   "metadata": {},
   "source": [
    "8. How do you &quot;pretty print&quot; dictionary values using which module and function?"
   ]
  },
  {
   "cell_type": "code",
   "execution_count": 14,
   "id": "fa355481",
   "metadata": {},
   "outputs": [
    {
     "name": "stdout",
     "output_type": "stream",
     "text": [
      "{'animal': 'cat', 'color': 'black', 'food': 'fish'}\n"
     ]
    }
   ],
   "source": [
    "import pprint\n",
    "spam = {'color': 'black', 'animal': 'cat', 'food': 'fish'}\n",
    "\n",
    "\n",
    "pprint.pprint(spam)\n",
    "\n",
    "#output\n",
    "\"\"\"\n",
    "\n",
    "\n",
    "{\n",
    "  'color': 'black',\n",
    "  'animal': 'cat',\n",
    "  'food': 'fish'\n",
    "}\n",
    "\n",
    "As you can see, the pprint.pprint() function has formatted the dictionary spam in a more readable way. \n",
    "The keys and values of the dictionary are indented, and the output is divided into multiple lines.\n",
    "\"\"\"\n",
    "\n"
   ]
  },
  {
   "cell_type": "code",
   "execution_count": null,
   "id": "621b77c5",
   "metadata": {},
   "outputs": [],
   "source": []
  }
 ],
 "metadata": {
  "kernelspec": {
   "display_name": "Python 3 (ipykernel)",
   "language": "python",
   "name": "python3"
  },
  "language_info": {
   "codemirror_mode": {
    "name": "ipython",
    "version": 3
   },
   "file_extension": ".py",
   "mimetype": "text/x-python",
   "name": "python",
   "nbconvert_exporter": "python",
   "pygments_lexer": "ipython3",
   "version": "3.9.12"
  }
 },
 "nbformat": 4,
 "nbformat_minor": 5
}
