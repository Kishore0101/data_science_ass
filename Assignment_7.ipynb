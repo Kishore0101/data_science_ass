{
 "cells": [
  {
   "cell_type": "markdown",
   "id": "2ff19bfc",
   "metadata": {},
   "source": [
    "1.Create two int type variables, apply addition, subtraction, division and multiplications\n",
    "and store the results in variables. Then print the data in the following format by calling the\n",
    "variables"
   ]
  },
  {
   "cell_type": "code",
   "execution_count": 2,
   "id": "b7f8c15f",
   "metadata": {},
   "outputs": [
    {
     "name": "stdout",
     "output_type": "stream",
     "text": [
      "First variable is 5 & second variable is 6.\n",
      "Addition: 5 + 6 = 11\n",
      "Subtraction: 5 - 6 = -1\n",
      "Division: 5 / 6 = 0.8333333333333334\n",
      "Multiplication: 5 * 6 = 30\n"
     ]
    },
    {
     "data": {
      "text/plain": [
       "True"
      ]
     },
     "execution_count": 2,
     "metadata": {},
     "output_type": "execute_result"
    }
   ],
   "source": [
    "def calculate_and_print(a, b):\n",
    "\n",
    "    addition = a + b\n",
    "    subtraction = a - b\n",
    "    division = a / b\n",
    "    multiplication = a * b\n",
    "    \n",
    "    print(\"First variable is {} & second variable is {}.\".format(a,b))\n",
    "    print(\"Addition: {} + {} = {}\".format(a, b, addition))\n",
    "    print(\"Subtraction: {} - {} = {}\".format(a, b, subtraction))\n",
    "    print(\"Division: {} / {} = {}\".format(a, b, division))\n",
    "    print(\"Multiplication: {} * {} = {}\".format(a, b, multiplication))\n",
    "    \n",
    "    return True\n",
    "\n",
    "\n",
    "calculate_and_print(5,6)\n",
    "    "
   ]
  },
  {
   "cell_type": "markdown",
   "id": "775df9ff",
   "metadata": {},
   "source": [
    "2.What is the difference between the following operators:"
   ]
  },
  {
   "cell_type": "code",
   "execution_count": 9,
   "id": "b5891b1d",
   "metadata": {},
   "outputs": [
    {
     "name": "stdout",
     "output_type": "stream",
     "text": [
      "2.0\n",
      "2\n",
      "117649\n",
      "1\n"
     ]
    }
   ],
   "source": [
    "\"\"\"\n",
    "‘/’ & ‘//’\n",
    "‘**’ & ‘^’\n",
    "\n",
    "\"\"\"\n",
    "\n",
    "# ‘/’ & ‘//’\n",
    "\n",
    "#ex \n",
    "\n",
    "a = 10\n",
    "b = 5\n",
    "\n",
    "print(a / b) #  floating-point division. ---->return float\n",
    "print(a // b) # integer division------------->return integer/\n",
    "\n",
    "#‘**’ & ‘^’\n",
    "\n",
    "#ex\n",
    "\n",
    "x = 7\n",
    "y = 6\n",
    "\n",
    "print(x ** y) # ** operator performs exponentiation. This means that the first operand is raised to the power of the second operand.\n",
    "print(x ^ y) # ^ operator performs bitwise XOR. This means that the bits of the two operands are compared and the result is a new number\n",
    "\n"
   ]
  },
  {
   "cell_type": "markdown",
   "id": "1959f3ea",
   "metadata": {},
   "source": [
    "3. List the logical operators."
   ]
  },
  {
   "cell_type": "code",
   "execution_count": null,
   "id": "60d49b71",
   "metadata": {},
   "outputs": [],
   "source": [
    "\"\"\"\n",
    "and : Returns True if both operands are True, False otherwise.\n",
    "or : Returns True if either operand is True, False otherwise.\n",
    "not : Reverses the truth value of the operand.\n",
    "== : Returns True if the operands are equal, False otherwise.\n",
    "!= : Returns True if the operands are not equal, False otherwise.\n",
    "< : Returns True if the left operand is less than the right operand, False otherwise.\n",
    "<= : Returns True if the left operand is less than or equal to the right operand, False otherwise.\n",
    "> : Returns True if the left operand is greater than the right operand, False otherwise.\n",
    ">= : Returns True if the left operand is greater than or equal to the right operand, False otherwise.\n",
    "\n",
    "\n",
    "\"\"\""
   ]
  },
  {
   "cell_type": "markdown",
   "id": "3812938e",
   "metadata": {},
   "source": [
    "4. Explain right shift operator and left shift operator with examples."
   ]
  },
  {
   "cell_type": "code",
   "execution_count": 34,
   "id": "d86bb905",
   "metadata": {},
   "outputs": [
    {
     "name": "stdout",
     "output_type": "stream",
     "text": [
      "5\n",
      "40\n"
     ]
    }
   ],
   "source": [
    "\"\"\"\n",
    "right shift operator (>>) and the left shift operator (<<) \n",
    "are bitwise operators that are used to shift the bits of a number to the right or left.\n",
    "\"\"\"\n",
    "#ex right shift\n",
    "number = 20\n",
    "\n",
    "print(number >> 2)\n",
    "\n",
    "#ex left shift\n",
    "\n",
    "number = 10\n",
    "\n",
    "print(number << 2)"
   ]
  },
  {
   "cell_type": "markdown",
   "id": "7f5869aa",
   "metadata": {},
   "source": [
    "5. Create a list containing int type data of length 15. Then write a code to check if 10 is\n",
    "present in the list or not."
   ]
  },
  {
   "cell_type": "code",
   "execution_count": 33,
   "id": "4ee3cf6b",
   "metadata": {},
   "outputs": [
    {
     "name": "stdout",
     "output_type": "stream",
     "text": [
      " 10 is Present in List --->example : 1\n",
      " 10 is Present in List --->example : 2\n"
     ]
    }
   ],
   "source": [
    "sample = [1,2,3,4,5,6,7,8,9,10,11,12,44,23,33]\n",
    "#ex1\n",
    "if 10 in sample:\n",
    "    print(\" 10 is Present in List --->example : 1\")\n",
    "    \n",
    "#ex2\n",
    "for i in sample:\n",
    "    if i == 10:\n",
    "        print(\" 10 is Present in List --->example : 2\")\n",
    "        "
   ]
  },
  {
   "cell_type": "code",
   "execution_count": null,
   "id": "e40f73e3",
   "metadata": {},
   "outputs": [],
   "source": []
  }
 ],
 "metadata": {
  "kernelspec": {
   "display_name": "Python 3 (ipykernel)",
   "language": "python",
   "name": "python3"
  },
  "language_info": {
   "codemirror_mode": {
    "name": "ipython",
    "version": 3
   },
   "file_extension": ".py",
   "mimetype": "text/x-python",
   "name": "python",
   "nbconvert_exporter": "python",
   "pygments_lexer": "ipython3",
   "version": "3.9.12"
  }
 },
 "nbformat": 4,
 "nbformat_minor": 5
}
