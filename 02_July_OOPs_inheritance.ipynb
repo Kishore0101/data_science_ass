{
 "cells": [
  {
   "cell_type": "code",
   "execution_count": 1,
   "id": "d16d78fb",
   "metadata": {},
   "outputs": [],
   "source": [
    "# Explain what inheritance is in object-oriented programming and why it is used. "
   ]
  },
  {
   "cell_type": "code",
   "execution_count": 2,
   "id": "e62cdb18",
   "metadata": {},
   "outputs": [
    {
     "data": {
      "text/plain": [
       "'\\nCode reuse: Inheritance allows us to reuse the code that has already been written for the base class in the subclass. This can save us a lot of time and effort, and it also helps to ensure that our code is consistent and well-tested.\\nAbstraction: Inheritance allows us to abstract away the details of the base class from the subclass. This can make the subclass easier to understand and use, and it can also help to decouple the two classes.\\nPolymorphism: Inheritance allows us to have different subclasses that behave in different ways, even though they share the same base class. This can be used to achieve a number of different effects, such as polymorphism and dynamic dispatch.\\n\\nIt can help to improve code readability and maintainability. When code is well-organized and structured, it is easier to understand and maintain. Inheritance can help to achieve this by grouping related classes together and by making it clear which classes inherit from which other classes.\\nIt can help to reduce code duplication. When code is duplicated, it can be difficult to keep track of all the different copies and to make sure that they are all up-to-date. Inheritance can help to reduce code duplication by allowing us to share code between different classes.\\nIt can help to promote polymorphism. Polymorphism is the ability of objects to behave in different ways depending on their type. Inheritance can help to promote polymorphism by allowing us to create subclasses that have different behaviors from their base class.\\n\\n\\n'"
      ]
     },
     "execution_count": 2,
     "metadata": {},
     "output_type": "execute_result"
    }
   ],
   "source": [
    "\"\"\"\n",
    "Code reuse: Inheritance allows us to reuse the code that has already been written for the base class in the subclass. This can save us a lot of time and effort, and it also helps to ensure that our code is consistent and well-tested.\n",
    "Abstraction: Inheritance allows us to abstract away the details of the base class from the subclass. This can make the subclass easier to understand and use, and it can also help to decouple the two classes.\n",
    "Polymorphism: Inheritance allows us to have different subclasses that behave in different ways, even though they share the same base class. This can be used to achieve a number of different effects, such as polymorphism and dynamic dispatch.\n",
    "\n",
    "It can help to improve code readability and maintainability. When code is well-organized and structured, it is easier to understand and maintain. Inheritance can help to achieve this by grouping related classes together and by making it clear which classes inherit from which other classes.\n",
    "It can help to reduce code duplication. When code is duplicated, it can be difficult to keep track of all the different copies and to make sure that they are all up-to-date. Inheritance can help to reduce code duplication by allowing us to share code between different classes.\n",
    "It can help to promote polymorphism. Polymorphism is the ability of objects to behave in different ways depending on their type. Inheritance can help to promote polymorphism by allowing us to create subclasses that have different behaviors from their base class.\n",
    "\n",
    "\n",
    "\"\"\""
   ]
  },
  {
   "cell_type": "code",
   "execution_count": null,
   "id": "4919a34c",
   "metadata": {},
   "outputs": [],
   "source": [
    "#Discuss the concept of single inheritance and multiple inheritance, highlighting their differences and advantages."
   ]
  },
  {
   "cell_type": "code",
   "execution_count": null,
   "id": "07e451ba",
   "metadata": {},
   "outputs": [],
   "source": [
    "\"\"\"\n",
    "#differences\n",
    "\n",
    "Single inheritance                                                                      Multiple inheritance\n",
    "A class can only inherit from one superclass.                                A class can inherit from more than one superclass.\n",
    "\n",
    "The subclass inherits all of the properties and methods of the superclass    The subclass inherits all of the properties and methods of all of its superclasses.\n",
    "\n",
    "Single inheritance is less flexible than multiple inheritance.               Multiple inheritance is more flexible than single inheritance.\n",
    "\n",
    "Single inheritance is less complex than multiple inheritance.                Multiple inheritance can be more complex than single inheritance.\n",
    "\n",
    "\n",
    "#Advantages\n",
    "\n",
    "Here are some of the advantages of single inheritance:\n",
    "\n",
    "It is easier to understand and reason about than multiple inheritance.\n",
    "It is less prone to errors.\n",
    "It is easier to implement and debug.\n",
    "\n",
    "\n",
    "\n",
    "Here are some of the advantages of multiple inheritance:\n",
    "\n",
    "It is more flexible than single inheritance.\n",
    "It allows us to create more complex and specialized classes.\n",
    "It can be used to implement polymorphism more easily.\n",
    "\n",
    "\"\"\""
   ]
  },
  {
   "cell_type": "code",
   "execution_count": 3,
   "id": "b7345581",
   "metadata": {},
   "outputs": [],
   "source": [
    "#Explain the terms \"base class\" and \"derived class\" in the context of inheritance."
   ]
  },
  {
   "cell_type": "code",
   "execution_count": null,
   "id": "95b1c315",
   "metadata": {},
   "outputs": [],
   "source": [
    "\"\"\"\n",
    "Code reuse: Inheritance allows us to reuse the code that has already been written for the base class in the subclass. This can save us a lot of time and effort, and it also helps to ensure that our code is consistent and well-tested.\n",
    "Abstraction: Inheritance allows us to abstract away the details of the base class from the subclass. This can make the subclass easier to understand and use, and it can also help to decouple the two classes.\n",
    "Polymorphism: Inheritance allows us to have different subclasses that behave in different ways, even though they share the same base class. This can be used to achieve a number of different effects, such as polymorphism and dynamic dispatch.\n",
    "\n",
    "\"\"\""
   ]
  },
  {
   "cell_type": "code",
   "execution_count": 4,
   "id": "c4b9a049",
   "metadata": {},
   "outputs": [],
   "source": [
    "#What is the significance of the \"protected\" access modifier in inheritance? How does it differ from \"private\" and \"public\" modifiers?"
   ]
  },
  {
   "cell_type": "code",
   "execution_count": null,
   "id": "62dd7c98",
   "metadata": {},
   "outputs": [],
   "source": [
    "\"\"\"\n",
    "The private access modifier is used to make a member of a class completely inaccessible to other classes. This means that a private member can only be accessed by the class in which it is declared.\n",
    "\n",
    "The public access modifier is used to make a member of a class accessible to all classes. This means that a public member can be accessed by any class, regardless of its relationship to the class in which it is declared.\n",
    "\n",
    "Encapsulation: Protected members can be used to encapsulate the implementation details of a base class, while still allowing derived classes to access them. This can help to improve the readability and maintainability of the code.\n",
    "Data hiding: Protected members can be used to hide sensitive data from unrelated classes. This can help to protect the data from unauthorized access.\n",
    "Polymorphism: Protected members can be used to implement polymorphism in derived classes. This can allow derived classes to behave differently from their base class, while still being able to access the same members.\n",
    "\n",
    "\"\"\""
   ]
  },
  {
   "cell_type": "code",
   "execution_count": null,
   "id": "36c598f1",
   "metadata": {},
   "outputs": [],
   "source": [
    "#What is the purpose of the \"super\" keyword in inheritance? Provide an example."
   ]
  },
  {
   "cell_type": "code",
   "execution_count": 5,
   "id": "6646eb52",
   "metadata": {},
   "outputs": [
    {
     "name": "stdout",
     "output_type": "stream",
     "text": [
      "I am an animal\n",
      "I am a dog\n"
     ]
    }
   ],
   "source": [
    "\"\"\"\n",
    "\n",
    "The super keyword in inheritance is used to refer to the parent class of the current class. \n",
    "It can be used to access the parent class's members, such as its methods, properties, and constructors.\n",
    "\n",
    "\"\"\"\n",
    "class Animal:\n",
    "    def speak(self):\n",
    "        print(\"I am an animal\")\n",
    "\n",
    "class Dog(Animal):\n",
    "    def speak(self):\n",
    "        super().speak()\n",
    "        print(\"I am a dog\")\n",
    "\n",
    "dog = Dog()\n",
    "dog.speak()"
   ]
  },
  {
   "cell_type": "code",
   "execution_count": null,
   "id": "6c178a82",
   "metadata": {},
   "outputs": [],
   "source": [
    "#\"\"\"Create a base class called \"Vehicle\" with attributes like \"make\", \"model\", and \"year\".\n",
    "Then, create a derived class called \"Car\" that inherits from \"Vehicle\" and adds an\n",
    "attribute called \"fuel_type\". Implement appropriate methods in both classes\"\"\""
   ]
  },
  {
   "cell_type": "code",
   "execution_count": 8,
   "id": "4b767f99",
   "metadata": {},
   "outputs": [
    {
     "name": "stdout",
     "output_type": "stream",
     "text": [
      "BMW\n",
      "Series-6\n",
      "2023\n",
      "EV\n",
      "Beep beep!\n",
      "Vroom vroom!\n"
     ]
    }
   ],
   "source": [
    "class Vehicle:\n",
    "    def __init__(self, make, model, year):\n",
    "        self.make = make\n",
    "        self.model = model\n",
    "        self.year = year\n",
    "\n",
    "    def honk(self):\n",
    "        print(\"Beep beep!\")\n",
    "\n",
    "class Car(Vehicle):\n",
    "    def __init__(self, make, model, year, fuel_type):\n",
    "        super().__init__(make, model, year)\n",
    "        self.fuel_type = fuel_type\n",
    "\n",
    "    def drive(self):\n",
    "        print(\"Vroom vroom!\")\n",
    "\n",
    "car = Car(\"BMW\", \"Series-6\", 2023, \"EV\")\n",
    "print(car.make)\n",
    "print(car.model)\n",
    "print(car.year)\n",
    "print(car.fuel_type)\n",
    "\n",
    "car.honk()\n",
    "car.drive()\n"
   ]
  },
  {
   "cell_type": "code",
   "execution_count": null,
   "id": "b284a7ac",
   "metadata": {},
   "outputs": [],
   "source": [
    "\"\"\"\n",
    "Create a base class called \"Employee\" with attributes like \"name\" and \"salary.\"\n",
    "Derive two classes, \"Manager\" and \"Developer,\" from \"Employee.\" Add an additional\n",
    "attribute called \"department\" for the \"Manager\" class and \"programming_language\"\n",
    "for the \"Developer\" class.\n",
    "\"\"\""
   ]
  },
  {
   "cell_type": "code",
   "execution_count": 9,
   "id": "62fe1b92",
   "metadata": {},
   "outputs": [
    {
     "name": "stdout",
     "output_type": "stream",
     "text": [
      "kishore\n",
      "100000\n",
      "SQL\n",
      "kk\n",
      "80000\n",
      "Python\n"
     ]
    }
   ],
   "source": [
    "class Employee:\n",
    "    def __init__(self, name, salary):\n",
    "        self.name = name\n",
    "        self.salary = salary\n",
    "\n",
    "    def get_name(self):\n",
    "        return self.name\n",
    "\n",
    "    def get_salary(self):\n",
    "        return self.salary\n",
    "\n",
    "class Manager(Employee):\n",
    "    def __init__(self, name, salary, department):\n",
    "        super().__init__(name, salary)\n",
    "        self.department = department\n",
    "\n",
    "    def get_department(self):\n",
    "        return self.department\n",
    "\n",
    "class Developer(Employee):\n",
    "    def __init__(self, name, salary, programming_language):\n",
    "        super().__init__(name, salary)\n",
    "        self.programming_language = programming_language\n",
    "\n",
    "    def get_programming_language(self):\n",
    "        return self.programming_language\n",
    "\n",
    "manager = Manager(\"kishore\", 100000, \"SQL\")\n",
    "print(manager.get_name())\n",
    "print(manager.get_salary())\n",
    "print(manager.get_department())\n",
    "\n",
    "developer = Developer(\"kk\", 80000, \"Python\")\n",
    "print(developer.get_name())\n",
    "print(developer.get_salary())\n",
    "print(developer.get_programming_language())\n"
   ]
  },
  {
   "cell_type": "code",
   "execution_count": null,
   "id": "7e258a09",
   "metadata": {},
   "outputs": [],
   "source": [
    "\"\"\"\n",
    "Design a base class called \"Shape\" with attributes like \"colour\" and \"border_width.\"\n",
    "Create derived classes, \"Rectangle\" and \"Circle,\" that inherit from \"Shape\" and add\n",
    "specific attributes like \"length\" and \"width\" for the \"Rectangle\" class and \"radius\" for\n",
    "the \"Circle\" class.\n",
    "\n",
    "\"\"\""
   ]
  },
  {
   "cell_type": "code",
   "execution_count": 10,
   "id": "18f5ee77",
   "metadata": {},
   "outputs": [
    {
     "name": "stdout",
     "output_type": "stream",
     "text": [
      "red\n",
      "2\n",
      "10\n",
      "5\n",
      "blue\n",
      "1\n",
      "10\n"
     ]
    }
   ],
   "source": [
    "class Shape:\n",
    "    def __init__(self, color, border_width):\n",
    "        self.color = color\n",
    "        self.border_width = border_width\n",
    "\n",
    "    def get_color(self):\n",
    "        return self.color\n",
    "\n",
    "    def get_border_width(self):\n",
    "        return self.border_width\n",
    "\n",
    "class Rectangle(Shape):\n",
    "    def __init__(self, color, border_width, length, width):\n",
    "        super().__init__(color, border_width)\n",
    "        self.length = length\n",
    "        self.width = width\n",
    "\n",
    "    def get_length(self):\n",
    "        return self.length\n",
    "\n",
    "    def get_width(self):\n",
    "        return self.width\n",
    "\n",
    "class Circle(Shape):\n",
    "    def __init__(self, color, border_width, radius):\n",
    "        super().__init__(color, border_width)\n",
    "        self.radius = radius\n",
    "\n",
    "    def get_radius(self):\n",
    "        return self.radius\n",
    "\n",
    "rectangle = Rectangle(\"red\", 2, 10, 5)\n",
    "print(rectangle.get_color())\n",
    "print(rectangle.get_border_width())\n",
    "print(rectangle.get_length())\n",
    "print(rectangle.get_width())\n",
    "\n",
    "circle = Circle(\"blue\", 1, 10)\n",
    "print(circle.get_color())\n",
    "print(circle.get_border_width())\n",
    "print(circle.get_radius())\n"
   ]
  },
  {
   "cell_type": "code",
   "execution_count": null,
   "id": "c0490b65",
   "metadata": {},
   "outputs": [],
   "source": [
    "\"\"\"\n",
    "9. Create a base class called \"Device\" with attributes like \"brand\" and \"model.\" Derive\n",
    "two classes, \"Phone\" and \"Tablet,\" from \"Device.\" Add specific attributes like\n",
    "\"screen_size\" for the \"Phone\" class and \"battery_capacity\" for the \"Tablet\" class.\n",
    "\"\"\""
   ]
  },
  {
   "cell_type": "code",
   "execution_count": 11,
   "id": "b3aae6e5",
   "metadata": {},
   "outputs": [
    {
     "name": "stdout",
     "output_type": "stream",
     "text": [
      "Apple\n",
      "iPhone 13 Pro\n",
      "6.1\n",
      "Samsung\n",
      "Galaxy Tab S8\n",
      "11.0\n"
     ]
    }
   ],
   "source": [
    "class Device:\n",
    "    def __init__(self, brand, model):\n",
    "        self.brand = brand\n",
    "        self.model = model\n",
    "\n",
    "    def get_brand(self):\n",
    "        return self.brand\n",
    "\n",
    "    def get_model(self):\n",
    "        return self.model\n",
    "\n",
    "class Phone(Device):\n",
    "    def __init__(self, brand, model, screen_size):\n",
    "        super().__init__(brand, model)\n",
    "        self.screen_size = screen_size\n",
    "\n",
    "    def get_screen_size(self):\n",
    "        return self.screen_size\n",
    "\n",
    "class Tablet(Device):\n",
    "    def __init__(self, brand, model, battery_capacity):\n",
    "        super().__init__(brand, model)\n",
    "        self.battery_capacity = battery_capacity\n",
    "\n",
    "    def get_battery_capacity(self):\n",
    "        return self.battery_capacity\n",
    "\n",
    "phone = Phone(\"Apple\", \"iPhone 13 Pro\", 6.1)\n",
    "print(phone.get_brand())\n",
    "print(phone.get_model())\n",
    "print(phone.get_screen_size())\n",
    "class BankAccount:\n",
    "    def __init__(self, account_number, balance):\n",
    "        self.account_number = account_number\n",
    "        self.balance = balance\n",
    "\n",
    "    def get_account_number(self):\n",
    "        return self.account_number\n",
    "\n",
    "    def get_balance(self):\n",
    "        return self.balance\n",
    "\n",
    "    def deposit(self, amount):\n",
    "        self.balance += amount\n",
    "\n",
    "    def withdraw(self, amount):\n",
    "        if amount > self.balance:\n",
    "            raise ValueError(\"Insufficient funds\")\n",
    "        self.balance -= amount\n",
    "\n",
    "class SavingsAccount(BankAccount):\n",
    "    def __init__(self, account_number, balance, interest_rate):\n",
    "        super().__init__(account_number, balance)\n",
    "        self.interest_rate = interest_rate\n",
    "\n",
    "    def calculate_interest(self):\n",
    "        interest = self.balance * self.interest_rate\n",
    "        self.balance += interest\n",
    "\n",
    "class CheckingAccount(BankAccount):\n",
    "    def __init__(self, account_number, balance, monthly_fee):\n",
    "        super().__init__(account_number, balance)\n",
    "        self.monthly_fee = monthly_fee\n",
    "\n",
    "    def deduct_fees(self):\n",
    "        self.balance -= self.monthly_fee\n",
    "\n",
    "savings_account = SavingsAccount(\"123456789\", 10000, 0.05)\n",
    "print(savings_account.get_account_number())\n",
    "print(savings_account.get_balance())\n",
    "savings_account.calculate_interest()\n",
    "print(savings_account.get_balance())\n",
    "\n",
    "checking_account = CheckingAccount(\"987654321\", 5000, 10)\n",
    "print(checking_account.get_account_number())\n",
    "print(checking_account.get_balance())\n",
    "checking_account.deduct_fees()\n",
    "print(checking_account.get_balance())\n",
    "tablet = Tablet(\"Samsung\", \"Galaxy Tab S8\", 11.0)\n",
    "print(tablet.get_brand())\n",
    "print(tablet.get_model())\n",
    "print(tablet.get_battery_capacity())"
   ]
  },
  {
   "cell_type": "code",
   "execution_count": null,
   "id": "64f2a368",
   "metadata": {},
   "outputs": [],
   "source": [
    "\"\"\"\n",
    "10. Create a base class called \"BankAccount\" with attributes like \"account_number\" and\n",
    "\"balance.\" Derive two classes, \"SavingsAccount\" and \"CheckingAccount,\" from\n",
    "\"BankAccount.\" Add specific methods like \"calculate_interest\" for the\n",
    "\"SavingsAccount\" class and \"deduct_fees\" for the \"CheckingAccount\" class.\n",
    "\"\"\""
   ]
  },
  {
   "cell_type": "code",
   "execution_count": 12,
   "id": "869ca933",
   "metadata": {},
   "outputs": [
    {
     "name": "stdout",
     "output_type": "stream",
     "text": [
      "123456789\n",
      "10000\n",
      "10500.0\n",
      "987654321\n",
      "5000\n",
      "4990\n"
     ]
    }
   ],
   "source": [
    "class BankAccount:\n",
    "    def __init__(self, account_number, balance):\n",
    "        self.account_number = account_number\n",
    "        self.balance = balance\n",
    "\n",
    "    def get_account_number(self):\n",
    "        return self.account_number\n",
    "\n",
    "    def get_balance(self):\n",
    "        return self.balance\n",
    "\n",
    "    def deposit(self, amount):\n",
    "        self.balance += amount\n",
    "\n",
    "    def withdraw(self, amount):\n",
    "        if amount > self.balance:\n",
    "            raise ValueError(\"Insufficient funds\")\n",
    "        self.balance -= amount\n",
    "\n",
    "class SavingsAccount(BankAccount):\n",
    "    def __init__(self, account_number, balance, interest_rate):\n",
    "        super().__init__(account_number, balance)\n",
    "        self.interest_rate = interest_rate\n",
    "\n",
    "    def calculate_interest(self):\n",
    "        interest = self.balance * self.interest_rate\n",
    "        self.balance += interest\n",
    "\n",
    "class CheckingAccount(BankAccount):\n",
    "    def __init__(self, account_number, balance, monthly_fee):\n",
    "        super().__init__(account_number, balance)\n",
    "        self.monthly_fee = monthly_fee\n",
    "\n",
    "    def deduct_fees(self):\n",
    "        self.balance -= self.monthly_fee\n",
    "\n",
    "savings_account = SavingsAccount(\"123456789\", 10000, 0.05)\n",
    "print(savings_account.get_account_number())\n",
    "print(savings_account.get_balance())\n",
    "savings_account.calculate_interest()\n",
    "print(savings_account.get_balance())\n",
    "\n",
    "checking_account = CheckingAccount(\"987654321\", 5000, 10)\n",
    "print(checking_account.get_account_number())\n",
    "print(checking_account.get_balance())\n",
    "checking_account.deduct_fees()\n",
    "print(checking_account.get_balance())"
   ]
  },
  {
   "cell_type": "code",
   "execution_count": null,
   "id": "3b83e2ed",
   "metadata": {},
   "outputs": [],
   "source": []
  }
 ],
 "metadata": {
  "kernelspec": {
   "display_name": "Python 3 (ipykernel)",
   "language": "python",
   "name": "python3"
  },
  "language_info": {
   "codemirror_mode": {
    "name": "ipython",
    "version": 3
   },
   "file_extension": ".py",
   "mimetype": "text/x-python",
   "name": "python",
   "nbconvert_exporter": "python",
   "pygments_lexer": "ipython3",
   "version": "3.9.12"
  }
 },
 "nbformat": 4,
 "nbformat_minor": 5
}
