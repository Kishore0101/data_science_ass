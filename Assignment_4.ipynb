{
 "cells": [
  {
   "cell_type": "markdown",
   "id": "c66c40ac",
   "metadata": {},
   "source": [
    "What exactly is []?"
   ]
  },
  {
   "cell_type": "code",
   "execution_count": 2,
   "id": "5399a7a4",
   "metadata": {},
   "outputs": [
    {
     "name": "stdout",
     "output_type": "stream",
     "text": [
      "[1, 2, 3]\n"
     ]
    }
   ],
   "source": [
    "\"\"\"\n",
    "\n",
    "\n",
    "In Python, the pair of square brackets [] is a literal constant that represents an empty list.\n",
    "A list is a mutable sequence of elements, which means that the elements of a list can be changed after the list is created.\n",
    "Lists are one of the most commonly used data structures in Python.\n",
    "\n",
    "\n",
    "\"\"\"\n",
    "#ex\n",
    "x = []\n",
    "x.append(1)\n",
    "x.append(2)\n",
    "x.append(3)\n",
    "print(x)"
   ]
  },
  {
   "cell_type": "markdown",
   "id": "290a1edf",
   "metadata": {},
   "source": [
    "2. In a list of values stored in a variable called spam, how would you assign the value &#39;hello&#39; as the\n",
    "third value? (Assume [2, 4, 6, 8, 10] are in spam.)"
   ]
  },
  {
   "cell_type": "code",
   "execution_count": 6,
   "id": "2080ecdc",
   "metadata": {},
   "outputs": [
    {
     "name": "stdout",
     "output_type": "stream",
     "text": [
      "[2, 4, 'hello', 6, 8, 10]\n"
     ]
    }
   ],
   "source": [
    "spam = [2, 4, 6, 8, 10]\n",
    "\n",
    "# spam[2] = 'hello' --->method-1\n",
    "spam.insert(2,'hello')#-->method2\n",
    "print(spam)"
   ]
  },
  {
   "cell_type": "markdown",
   "id": "42fb7f62",
   "metadata": {},
   "source": [
    " let's pretend the spam variable includes the list ['a', 'b', 'c', 'd'] for the next three queries."
   ]
  },
  {
   "cell_type": "markdown",
   "id": "e03b9812",
   "metadata": {},
   "source": [
    "3. What is the value of spam[int(int(&#39;3&#39; * 2) / 11)]?"
   ]
  },
  {
   "cell_type": "code",
   "execution_count": 21,
   "id": "7085049d",
   "metadata": {},
   "outputs": [
    {
     "name": "stdout",
     "output_type": "stream",
     "text": [
      "d\n"
     ]
    }
   ],
   "source": [
    "spam =  ['a' , 'b', 'c', 'd', 2 , 4 ,6 , 8 , 10 ] \n",
    "return_value = spam[int(int('3' * 2) / 11)]\n",
    "#------------>spam[3] \n",
    "print(return_value)"
   ]
  },
  {
   "cell_type": "markdown",
   "id": "55a7a76b",
   "metadata": {},
   "source": [
    "4. What is the value of spam[-1]?"
   ]
  },
  {
   "cell_type": "code",
   "execution_count": 22,
   "id": "c6b68882",
   "metadata": {},
   "outputs": [
    {
     "name": "stdout",
     "output_type": "stream",
     "text": [
      "10\n"
     ]
    }
   ],
   "source": [
    "\"\"\"\n",
    "spam =  ['a' , 'b', 'c', 'd', 2 , 4 ,6 , 8 , 10 ] \n",
    "spam[-1] ---->10\n",
    "get the last value in the list\n",
    "\n",
    "\"\"\"\n",
    "\n",
    "print(spam[-1])"
   ]
  },
  {
   "cell_type": "markdown",
   "id": "007a85ca",
   "metadata": {},
   "source": [
    "5. What is the value of spam[:2]?"
   ]
  },
  {
   "cell_type": "code",
   "execution_count": 24,
   "id": "5936351a",
   "metadata": {},
   "outputs": [
    {
     "name": "stdout",
     "output_type": "stream",
     "text": [
      "['a', 'b']\n"
     ]
    }
   ],
   "source": [
    "\"\"\"\n",
    "spam[:2] ---->['a','b']\n",
    "get the first two value in the list\n",
    "\"\"\"\n",
    "print(spam[:2])"
   ]
  },
  {
   "cell_type": "markdown",
   "id": "dbb88740",
   "metadata": {},
   "source": [
    "Let&#39;s pretend bacon has the list [3.14, &#39;cat,&#39; 11, &#39;cat,&#39; True] for the next three questions."
   ]
  },
  {
   "cell_type": "markdown",
   "id": "f0c9cb3c",
   "metadata": {},
   "source": [
    "6. What is the value of bacon.index(&#39;cat&#39;)?"
   ]
  },
  {
   "cell_type": "code",
   "execution_count": 32,
   "id": "7b419854",
   "metadata": {},
   "outputs": [],
   "source": [
    "bacon = [3.14, 'cat',11, 'cat', True] "
   ]
  },
  {
   "cell_type": "code",
   "execution_count": 29,
   "id": "a0ccd796",
   "metadata": {},
   "outputs": [
    {
     "data": {
      "text/plain": [
       "1"
      ]
     },
     "execution_count": 29,
     "metadata": {},
     "output_type": "execute_result"
    }
   ],
   "source": [
    "\"\"\"\n",
    "using index keyword get the index value\n",
    "\"\"\"\n",
    "\n",
    "bacon.index('cat')"
   ]
  },
  {
   "cell_type": "markdown",
   "id": "01948f7e",
   "metadata": {},
   "source": [
    "7.How does bacon.append(99) change the look of the list value in bacon?"
   ]
  },
  {
   "cell_type": "code",
   "execution_count": 33,
   "id": "dfd9c01d",
   "metadata": {},
   "outputs": [
    {
     "name": "stdout",
     "output_type": "stream",
     "text": [
      "[3.14, 'cat', 11, 'cat', True, 99]\n"
     ]
    }
   ],
   "source": [
    "bacon.append(99)\n",
    "print(bacon)"
   ]
  },
  {
   "cell_type": "markdown",
   "id": "fe95348a",
   "metadata": {},
   "source": [
    "8. How does bacon.remove(&#39;cat&#39;) change the look of the list in bacon?"
   ]
  },
  {
   "cell_type": "code",
   "execution_count": 34,
   "id": "46abaa4d",
   "metadata": {},
   "outputs": [
    {
     "name": "stdout",
     "output_type": "stream",
     "text": [
      "[3.14, 11, 'cat', True, 99]\n"
     ]
    }
   ],
   "source": [
    "bacon.remove('cat') \n",
    "print(bacon)"
   ]
  },
  {
   "cell_type": "markdown",
   "id": "dc7ac31c",
   "metadata": {},
   "source": [
    "9. What are the list concatenation and list replication operators?"
   ]
  },
  {
   "cell_type": "code",
   "execution_count": 36,
   "id": "0c700400",
   "metadata": {},
   "outputs": [
    {
     "name": "stdout",
     "output_type": "stream",
     "text": [
      "[1, 2, 3, 4, 5, 6] --------------->concatenation\n",
      "[7, 8, 9, 7, 8, 9, 7, 8, 9] --------------->replication\n"
     ]
    }
   ],
   "source": [
    "#The list concatenation operator in Python is the + operator\n",
    "\n",
    "x1 = [1,2,3]\n",
    "x2 = [4,5,6]\n",
    "result_1 = x1+x2\n",
    "print(result_1,'--------------->concatenation')\n",
    "\n",
    "#The list replication operator in Python is the * operator\n",
    "\n",
    "x3 = [7,8,9]\n",
    "result_1 = x3 * 3\n",
    "print(result_1,'--------------->replication')"
   ]
  },
  {
   "cell_type": "markdown",
   "id": "3d49f88a",
   "metadata": {},
   "source": [
    "10. What is difference between the list methods append() and insert()?"
   ]
  },
  {
   "cell_type": "code",
   "execution_count": 39,
   "id": "5c636a38",
   "metadata": {},
   "outputs": [
    {
     "name": "stdout",
     "output_type": "stream",
     "text": [
      "[1, 2, 3]\n",
      "[1, 3, 2]\n"
     ]
    }
   ],
   "source": [
    "# append()---->The append() method adds an element to the end of a list\n",
    "\n",
    "x = [1, 2]\n",
    "\n",
    "x.append(3)\n",
    "\n",
    "print(x)\n",
    "\n",
    "#  insert() method inserts an element at a specific index in a list\n",
    "\n",
    "x1 = [1, 2]\n",
    "\n",
    "x1.insert(1,3)\n",
    "\n",
    "print(x1)\n"
   ]
  },
  {
   "cell_type": "markdown",
   "id": "e75456e0",
   "metadata": {},
   "source": [
    "11. What are the two methods for removing items from a list?"
   ]
  },
  {
   "cell_type": "code",
   "execution_count": 40,
   "id": "a0a089f6",
   "metadata": {},
   "outputs": [
    {
     "name": "stdout",
     "output_type": "stream",
     "text": [
      "[1, 2]\n",
      "[1, 3]\n"
     ]
    }
   ],
   "source": [
    "# pop() and remove() these 2 method remove item from a list\n",
    "#remove() method removes the first occurrence of the specified value from the list.\n",
    "x = [1, 2 , 3]\n",
    "\n",
    "x.remove(3)\n",
    "\n",
    "print(x)\n",
    "\n",
    "#pop() method removes the element at the specified index from the list.\n",
    "\n",
    "x1 = [1, 2,3]\n",
    "\n",
    "x1.pop(1)\n",
    "\n",
    "print(x1)\n"
   ]
  },
  {
   "cell_type": "markdown",
   "id": "8edf8777",
   "metadata": {},
   "source": [
    "12. Describe how list values and string values are identical."
   ]
  },
  {
   "cell_type": "code",
   "execution_count": null,
   "id": "88fec59d",
   "metadata": {},
   "outputs": [],
   "source": [
    "\"\"\"\n",
    "List values can contain elements of different types, while string values can only contain characters.\n",
    "List values are mutable, while string values are immutable. This means that the elements of a list\n",
    "can be changed after the list is created, while the characters in a string cannot be changed after the string is created.\n",
    "\n",
    "\n",
    "Both list values and string values are sequences. \n",
    "This means that they can be accessed using the index operator,\n",
    "and they can be iterated over using a for loop.\n",
    "\n",
    "\"\"\"\n",
    "\n",
    "list_values = [1, 2, 3]\n",
    "str_values = \"hello world\"\n",
    "\n",
    "print(list_values[0])  # Prints 1\n",
    "print(str_values[0])  # Prints 'h'\n",
    "\n",
    "for ele in list_values:\n",
    "    print(ele)\n",
    "for char in str_values:\n",
    "    print(char)"
   ]
  },
  {
   "cell_type": "markdown",
   "id": "c9abe402",
   "metadata": {},
   "source": [
    "13. What&#39;s the difference between tuples and lists?"
   ]
  },
  {
   "cell_type": "code",
   "execution_count": 41,
   "id": "dc228a06",
   "metadata": {},
   "outputs": [],
   "source": [
    "\"\"\"\n",
    "Tuple :\n",
    "\n",
    "Tuples are immutable ,can not be change once tuple was created\n",
    "Tuples typically use less memory than lists\n",
    "Tuples are typically faster than lists\n",
    "\n",
    "\n",
    "List :\n",
    "\n",
    " Lists are mutable, can be changed after they are created.\n",
    " need to store more information about their contents.\n",
    " lists are slower\n",
    "\n",
    "\n",
    "\n",
    "\"\"\"\n",
    "\n",
    "\n",
    "#ex\n",
    "\n",
    "tuple_ex = (1, 3)\n",
    "list_ex = [1, 3]"
   ]
  },
  {
   "cell_type": "markdown",
   "id": "e569900b",
   "metadata": {},
   "source": [
    "14. How do you type a tuple value that only contains the integer 42?"
   ]
  },
  {
   "cell_type": "code",
   "execution_count": 44,
   "id": "067e4989",
   "metadata": {},
   "outputs": [
    {
     "name": "stdout",
     "output_type": "stream",
     "text": [
      "<class 'tuple'>\n"
     ]
    }
   ],
   "source": [
    "# ex \n",
    "tuple_val = (8,)\n",
    "\n",
    "\"\"\"\n",
    "The trailing comma is mandatory\n",
    "\n",
    "\n",
    "\n",
    "\"\"\"\n",
    "\n",
    "tuple_val = (8,)\n",
    "print(type(tuple_val))"
   ]
  },
  {
   "cell_type": "markdown",
   "id": "6823201b",
   "metadata": {},
   "source": [
    "15. How do you get a list value&#39;s tuple form? How do you get a tuple value&#39;s list form?"
   ]
  },
  {
   "cell_type": "code",
   "execution_count": 46,
   "id": "a51bf6af",
   "metadata": {},
   "outputs": [
    {
     "name": "stdout",
     "output_type": "stream",
     "text": [
      "[1, 2, 3, 4]\n",
      "(1, 2, 3, 4)\n"
     ]
    }
   ],
   "source": [
    "tuple_val = (1,2,3,4)\n",
    "#using list() function change tuple to list\n",
    "convert_list = list(tuple_val)\n",
    "print(convert_list)\n",
    "#using tuple() function change list to tuple\n",
    "list_val=[1,2,3,4]\n",
    "convert_tuple = tuple(list_val)\n",
    "print(convert_tuple)"
   ]
  },
  {
   "cell_type": "markdown",
   "id": "64c69f62",
   "metadata": {},
   "source": [
    "16. Variables that &quot;contain&quot; list values are not necessarily lists themselves. Instead, what do they\n",
    "contain?"
   ]
  },
  {
   "cell_type": "code",
   "execution_count": null,
   "id": "5178c1e5",
   "metadata": {},
   "outputs": [],
   "source": [
    "\"\"\"\n",
    "Variables that \"contain\" list values are not necessarily lists themselves. \n",
    "Instead, they contain references or pointers to lists\n",
    "\n",
    "\"\"\"\n",
    "\n",
    "list_value = [1, 2, 3]\n",
    "\n",
    "print(list_value)\n",
    "\n",
    "\"\"\"\n",
    "list_value now contains a reference to the list [1, 2, 3]. If we were to print the value of the variable,\n",
    "we would see the memory address of the list, not the actual list itself.\n",
    "\"\"\""
   ]
  },
  {
   "cell_type": "markdown",
   "id": "675642ed",
   "metadata": {},
   "source": [
    "17. How do you distinguish between copy.copy() and copy.deepcopy()?"
   ]
  },
  {
   "cell_type": "code",
   "execution_count": 51,
   "id": "8486794e",
   "metadata": {
    "scrolled": true
   },
   "outputs": [
    {
     "name": "stdout",
     "output_type": "stream",
     "text": [
      "[4, 2, 3]\n"
     ]
    }
   ],
   "source": [
    "# import copy\n",
    "\n",
    "\"\"\"\n",
    "copy.copy() function creates a shallow copy of an object. \n",
    "\n",
    "If the original object is modified, the changes will be reflected in the copy.\n",
    "\n",
    "\"\"\"\n",
    "list_value = [1, 2, 3]\n",
    "shallow_copy = copy.copy(list_value)\n",
    "\n",
    "list_value[0] = 4\n",
    "\n",
    "print(shallow_copy)\n",
    "\n",
    "# deep copy\n",
    "\n",
    "\"\"\"\n",
    "copy.deepcopy() function creates a deep copy of an object. \n",
    "\n",
    "If the original object is modified, the changes will not be reflected in the copy.\n",
    "\n",
    "\"\"\"\n",
    "deep_copy = copy.deepcopy(list_value)\n",
    "\n",
    "list_value[0] = 5\n",
    "\n",
    "print(deep_copy)"
   ]
  },
  {
   "cell_type": "code",
   "execution_count": null,
   "id": "ecfba092",
   "metadata": {},
   "outputs": [],
   "source": []
  }
 ],
 "metadata": {
  "kernelspec": {
   "display_name": "Python 3 (ipykernel)",
   "language": "python",
   "name": "python3"
  },
  "language_info": {
   "codemirror_mode": {
    "name": "ipython",
    "version": 3
   },
   "file_extension": ".py",
   "mimetype": "text/x-python",
   "name": "python",
   "nbconvert_exporter": "python",
   "pygments_lexer": "ipython3",
   "version": "3.9.12"
  }
 },
 "nbformat": 4,
 "nbformat_minor": 5
}
