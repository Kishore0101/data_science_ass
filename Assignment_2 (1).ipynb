{
 "cells": [
  {
   "cell_type": "markdown",
   "id": "d2a0f94c",
   "metadata": {},
   "source": [
    "1.What are the two values of the Boolean data type? How do you write them?"
   ]
  },
  {
   "cell_type": "code",
   "execution_count": 4,
   "id": "532612fb",
   "metadata": {},
   "outputs": [
    {
     "name": "stdout",
     "output_type": "stream",
     "text": [
      "The number is even\n"
     ]
    }
   ],
   "source": [
    "\"\"\"\n",
    "value of boolean data type\n",
    "\n",
    "1 <---> True\n",
    "0 <-----> False\n",
    "\n",
    "ex : 1==1 --> return True\n",
    "     2==1 --> return False\n",
    "\n",
    "\"\"\"\n",
    "# ex :1 \n",
    "n = 8\n",
    "if n % 2 == 0:\n",
    "    #condition if valid return True\n",
    "    print(\"The number is even\")\n",
    "    \n",
    "else:\n",
    "    #condition if not valid return False \n",
    "    print(\"The number is odd\")\n",
    "\n"
   ]
  },
  {
   "cell_type": "markdown",
   "id": "913fd7d0",
   "metadata": {},
   "source": [
    "2. What are the three different types of Boolean operators?"
   ]
  },
  {
   "cell_type": "code",
   "execution_count": 11,
   "id": "3f57008a",
   "metadata": {},
   "outputs": [
    {
     "name": "stdout",
     "output_type": "stream",
     "text": [
      "The number is even\n",
      "The number is even\n",
      "The number is even\n"
     ]
    }
   ],
   "source": [
    "\"\"\"\n",
    "Three types of Boolean operators\n",
    "1 . AND \n",
    "2 . OR\n",
    "3 . NOT\n",
    "\n",
    "\"\"\"\n",
    "# ex for AND\n",
    "n = 8\n",
    "if n % 2 == 0 and n == 8:\n",
    "    #condition if valid return True\n",
    "    print(\"The number is even\")\n",
    "    \n",
    "else:\n",
    "    #condition if not valid return False \n",
    "    print(\"The number is odd\")\n",
    "    \n",
    "# ex for OR\n",
    "n = 8\n",
    "if n % 2 == 0 or n == 8:\n",
    "    #condition if valid return True\n",
    "    print(\"The number is even\")\n",
    "    \n",
    "else:\n",
    "    #condition if not valid return False \n",
    "    print(\"The number is odd\")\n",
    "    \n",
    "# ex for NOT\n",
    "n = 8\n",
    "if not n % 2 == 0:\n",
    "    #condition if valid return True\n",
    "    print(\"The number is add\")\n",
    "    \n",
    "else:\n",
    "    #condition if not valid return False \n",
    "    print(\"The number is even\") \n"
   ]
  },
  {
   "cell_type": "markdown",
   "id": "ecd322af",
   "metadata": {},
   "source": [
    "3. Make a list of each Boolean operator's\n",
    "truth tables (i.e. every possible combination of Boolean values for the operator and what it evaluate )."
   ]
  },
  {
   "cell_type": "code",
   "execution_count": null,
   "id": "931ce255",
   "metadata": {},
   "outputs": [],
   "source": [
    "\"\"\"\n",
    "-------------AND---------------- returns True only if both expressions are true-\n",
    "True    True\n",
    "True    False\n",
    "False   True\n",
    "False   False\n",
    "------------OR------------------returns True if at least one of the expressions is true-\n",
    "True    True\n",
    "True    False\n",
    "False   True\n",
    "False   False\n",
    "----------NOT ------------------returns True if the expression is false-\n",
    "True    False\n",
    "False   True\n",
    "\n",
    "\"\"\""
   ]
  },
  {
   "cell_type": "markdown",
   "id": "17bdd065",
   "metadata": {},
   "source": [
    "4. What are the values of the following expressions?"
   ]
  },
  {
   "cell_type": "code",
   "execution_count": null,
   "id": "f0918de6",
   "metadata": {},
   "outputs": [],
   "source": [
    "\"\"\"\n",
    "(5 > 4) and (3 == 5) -------------------> False\n",
    "not (5 > 4)-----------------------------> False\n",
    "(5 > 4) or (3 == 5)---------------------> True\n",
    "not ((5 > 4) or (3 == 5))---------------> False\n",
    "(True and True) and (True == False)-----> False\n",
    "(not False) or (not True) --------------> True\n",
    "\n",
    "\"\"\""
   ]
  },
  {
   "cell_type": "markdown",
   "id": "9c6cdec0",
   "metadata": {},
   "source": [
    "5. What are the six comparison operators?"
   ]
  },
  {
   "cell_type": "code",
   "execution_count": null,
   "id": "8877c133",
   "metadata": {},
   "outputs": [],
   "source": [
    "\"\"\"\n",
    "\n",
    "> ---------->greater_than\n",
    ">= --------->greater_than_equal  \n",
    "== ----------> equal\n",
    "!= ----------> not_equal\n",
    "< -----------> less_than\n",
    "<= ----------> less_than_equal\n",
    "\n",
    "\"\"\""
   ]
  },
  {
   "cell_type": "markdown",
   "id": "231df0c2",
   "metadata": {},
   "source": [
    "6 . How do you tell the difference between the equal to and assignment operators?\n",
    "\n",
    "Describe a condition and when you would use one."
   ]
  },
  {
   "cell_type": "code",
   "execution_count": 12,
   "id": "fbad7f85",
   "metadata": {},
   "outputs": [
    {
     "data": {
      "text/plain": [
       "'\\n\\nboth operators representation \\n\\n\\n'"
      ]
     },
     "execution_count": 12,
     "metadata": {},
     "output_type": "execute_result"
    }
   ],
   "source": [
    "\"\"\"\n",
    "\n",
    "both operators representation \n",
    "\n",
    "assignment-----> \" = \"\n",
    "equal ---------> \" == \"\n",
    "\n",
    "assignment:\n",
    "\n",
    "a = 2\n",
    "b = \"kishore\"\n",
    "\n",
    "assign the value of one variable its called assignment operator\n",
    "\n",
    "equal :\n",
    "\n",
    "a = 2\n",
    "b = 2\n",
    "\n",
    "a == b --> check both value equal or not if equal return True\n",
    "\n",
    "\"\"\""
   ]
  },
  {
   "cell_type": "markdown",
   "id": "51e733ce",
   "metadata": {},
   "source": [
    "7. Identify the three blocks in this code"
   ]
  },
  {
   "cell_type": "code",
   "execution_count": null,
   "id": "56a4b28a",
   "metadata": {},
   "outputs": [],
   "source": [
    "\"\"\"\n",
    "spam = 0\n",
    "if spam == 10:   ---------------> block 1\n",
    "    print('eggs')\n",
    "if spam > 5:     ---------------> block 2\n",
    "    print('bacon')\n",
    "else:            ---------------> block 3\n",
    "    print('ham') \n",
    "    print('spam')\n",
    "    print('spam')\n",
    "\n",
    "\"\"\""
   ]
  },
  {
   "cell_type": "markdown",
   "id": "18a9d47f",
   "metadata": {},
   "source": [
    "8. Write code that prints Hello \n",
    "if 1 is stored in spam, prints Howdy\n",
    "if 2 is stored in spam, and prints Greetings! \n",
    "if anything else is stored in spam."
   ]
  },
  {
   "cell_type": "code",
   "execution_count": 5,
   "id": "07b647f1",
   "metadata": {},
   "outputs": [
    {
     "name": "stdout",
     "output_type": "stream",
     "text": [
      "Howdy\n"
     ]
    }
   ],
   "source": [
    "# spam = int(input(\"Please enter Any number\"))\n",
    "spam = 2\n",
    "if spam == 1:\n",
    "    print(\"Hello\")\n",
    "elif spam == 2:\n",
    "    print(\"Howdy\")\n",
    "else:\n",
    "    print(\"Greetings\")"
   ]
  },
  {
   "cell_type": "markdown",
   "id": "e3888210",
   "metadata": {},
   "source": [
    "9.If your programme is stuck in an endless loop, what keys you’ll press?"
   ]
  },
  {
   "cell_type": "code",
   "execution_count": null,
   "id": "695d4055",
   "metadata": {},
   "outputs": [],
   "source": [
    "\"\"\"\n",
    "Press CTRL+C \n",
    "\"\"\""
   ]
  },
  {
   "cell_type": "markdown",
   "id": "8cbba6f2",
   "metadata": {},
   "source": [
    "10. How can you tell the difference between break and continue?"
   ]
  },
  {
   "cell_type": "code",
   "execution_count": 6,
   "id": "a2411eac",
   "metadata": {},
   "outputs": [
    {
     "name": "stdout",
     "output_type": "stream",
     "text": [
      "------break-------- 1\n",
      "------break-------- 2\n",
      "------break-------- 3\n",
      "------break-------- 4\n",
      "------continue-------- 1\n",
      "------continue-------- 2\n",
      "------continue-------- 3\n",
      "------continue-------- 4\n",
      "------continue-------- 6\n",
      "------continue-------- 7\n",
      "------continue-------- 8\n",
      "------continue-------- 9\n"
     ]
    }
   ],
   "source": [
    "# break \n",
    "# if condition is true break the loop (exit for loop) \n",
    "# print value till the met break statement\n",
    "for i in range(1,10):\n",
    "    if i == 5:\n",
    "        break\n",
    "    print('------break--------',i)\n",
    "\n",
    "#continue\n",
    "#if condition is true continue the loop (not exit for loop but escaping 5 )\n",
    "# print all values except 5 \n",
    "for i in range(1,10):\n",
    "    if i == 5:\n",
    "        continue\n",
    "    print('------continue--------',i)"
   ]
  },
  {
   "cell_type": "markdown",
   "id": "6414132b",
   "metadata": {},
   "source": [
    "11. In a for loop, what is the difference between range(10), range(0, 10), and range(0, 10, 1)?"
   ]
  },
  {
   "cell_type": "code",
   "execution_count": 13,
   "id": "6c0131b2",
   "metadata": {},
   "outputs": [
    {
     "name": "stdout",
     "output_type": "stream",
     "text": [
      "0\n",
      "1\n",
      "2\n",
      "3\n",
      "4\n",
      "5\n",
      "6\n",
      "7\n",
      "8\n",
      "9\n",
      "0\n",
      "1\n",
      "2\n",
      "3\n",
      "4\n",
      "5\n",
      "6\n",
      "7\n",
      "8\n",
      "9\n",
      "0\n",
      "1\n",
      "2\n",
      "3\n",
      "4\n",
      "5\n",
      "6\n",
      "7\n",
      "8\n",
      "9\n",
      "0\n",
      "2\n",
      "4\n",
      "6\n",
      "8\n"
     ]
    }
   ],
   "source": [
    "\"\"\"\n",
    "\n",
    "range(10)-----------> generates a sequence of numbers from 0 to 9, inclusive. The step is 1 by default.\n",
    "\n",
    "\"\"\"\n",
    " \n",
    "for i in range(10):\n",
    "    print(i)\n",
    "\n",
    "\"\"\"\n",
    "range(0, 10) -------> generates a sequence of numbers from 0 to 9, inclusive. The step is also 1 by default.\n",
    "\n",
    "\"\"\"\n",
    "\n",
    "for i in range(0,10):\n",
    "    print(i)\n",
    "    \n",
    "\n",
    "\"\"\"    \n",
    "range(0, 10, 1)-----> generates a sequence of numbers from 0 to 9, inclusive. The step is 1,\n",
    "                      so each number in the sequence is incremented by 1.\n",
    "    \n",
    "\"\"\"\n",
    "#ex : 1\n",
    "for i in range(0,10,1):\n",
    "    print(i)\n",
    "    \n",
    "#ex : 2\n",
    "for i in range(0,10,2):\n",
    "    print(i)\n",
    "\n",
    "\n"
   ]
  },
  {
   "cell_type": "markdown",
   "id": "317dda3f",
   "metadata": {},
   "source": [
    "12. Write a short program that prints the numbers 1 to 10 using a for loop. \n",
    "Then write an equivalent program that prints the numbers 1 to 10 using a while loop."
   ]
  },
  {
   "cell_type": "code",
   "execution_count": 16,
   "id": "1fcd3dd6",
   "metadata": {},
   "outputs": [
    {
     "name": "stdout",
     "output_type": "stream",
     "text": [
      "0\n",
      "1\n",
      "2\n",
      "3\n",
      "4\n",
      "5\n",
      "6\n",
      "7\n",
      "8\n",
      "9\n",
      "0\n",
      "1\n",
      "2\n",
      "3\n",
      "4\n",
      "5\n"
     ]
    }
   ],
   "source": [
    " #for loop\n",
    "\n",
    "           \n",
    "for i in range(0,10):\n",
    "    print(i)\n",
    "    \n",
    "#while loop\n",
    "\n",
    "a = 0\n",
    "b = 5\n",
    "while a <= b:\n",
    "    print(a)\n",
    "    a+=1"
   ]
  },
  {
   "cell_type": "markdown",
   "id": "5a5e9054",
   "metadata": {},
   "source": [
    "13.If you had a function named bacon() inside a module named spam, how would you call it after importing spam?"
   ]
  },
  {
   "cell_type": "code",
   "execution_count": 25,
   "id": "a298890f",
   "metadata": {},
   "outputs": [],
   "source": [
    "\n",
    "#To call a function named bacon() inside a module named spam\n",
    "\n",
    "import spam\n",
    "\n",
    "spam.bacon()\n"
   ]
  },
  {
   "cell_type": "code",
   "execution_count": null,
   "id": "9b2396b1",
   "metadata": {},
   "outputs": [],
   "source": []
  },
  {
   "cell_type": "code",
   "execution_count": null,
   "id": "e0bcc424",
   "metadata": {},
   "outputs": [],
   "source": []
  }
 ],
 "metadata": {
  "kernelspec": {
   "display_name": "Python 3 (ipykernel)",
   "language": "python",
   "name": "python3"
  },
  "language_info": {
   "codemirror_mode": {
    "name": "ipython",
    "version": 3
   },
   "file_extension": ".py",
   "mimetype": "text/x-python",
   "name": "python",
   "nbconvert_exporter": "python",
   "pygments_lexer": "ipython3",
   "version": "3.9.12"
  }
 },
 "nbformat": 4,
 "nbformat_minor": 5
}
