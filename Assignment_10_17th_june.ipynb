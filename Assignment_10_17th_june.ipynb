{
 "cells": [
  {
   "cell_type": "code",
   "execution_count": 1,
   "id": "9d1eaf9e",
   "metadata": {},
   "outputs": [],
   "source": [
    "#1. What is the role of try and exception block?"
   ]
  },
  {
   "cell_type": "code",
   "execution_count": 9,
   "id": "952fa6ee",
   "metadata": {},
   "outputs": [
    {
     "data": {
      "text/plain": [
       "'\\nThe try and except blocks are used to handle errors in programming languages. \\nThe try block is used to execute a block of code that may potentially throw an error. \\nThe except block is used to handle the error that is thrown from the try block.\\n\\n'"
      ]
     },
     "execution_count": 9,
     "metadata": {},
     "output_type": "execute_result"
    }
   ],
   "source": [
    "\"\"\"\n",
    "The try and except blocks are used to handle errors in programming languages. \n",
    "The try block is used to execute a block of code that may potentially throw an error. \n",
    "The except block is used to handle the error that is thrown from the try block.\n",
    "\n",
    "The try and except blocks are a powerful tool for handling errors in programming languages.\n",
    "They can help to prevent your programs from crashing and to provide a graceful way to handle errors.\n",
    "\n",
    "\"\"\""
   ]
  },
  {
   "cell_type": "code",
   "execution_count": 8,
   "id": "34fa98a9",
   "metadata": {},
   "outputs": [
    {
     "name": "stdout",
     "output_type": "stream",
     "text": [
      "Cannot add string.\n",
      "None\n"
     ]
    }
   ],
   "source": [
    "#2.What is the syntax for a basic try-except block?\n",
    "\n",
    "def add_numer(x, y):\n",
    "    try:\n",
    "        return x + y\n",
    "    except:\n",
    "        print(\"Cannot add string.\")\n",
    "\n",
    "result = add_numer(1, 'b')\n",
    "print(result)"
   ]
  },
  {
   "cell_type": "code",
   "execution_count": 10,
   "id": "ba3dfe7a",
   "metadata": {},
   "outputs": [
    {
     "name": "stdout",
     "output_type": "stream",
     "text": [
      "Error occured\n",
      "None\n"
     ]
    }
   ],
   "source": [
    "#3.What happens if an exception occurs inside a try block and there is no matching except block?\n",
    "\n",
    "\"\"\"\n",
    "If an exception occurs inside a try block and there is no matching except block,\n",
    "the exception will be unhandled. This means that the program will crash.\n",
    "\n",
    "The except block is used to handle the exception that is thrown from the try block. If there is no except block that matches the exception that is thrown,\n",
    "the program will not know how to handle the error and will crash.\n",
    "\"\"\"\n",
    "\n",
    "def add_numer(x, y):\n",
    "    try:\n",
    "        return x + y\n",
    "    except:\n",
    "        print(\"Error occured\")\n",
    "result = add_numer(1, 'b')\n",
    "print(result)"
   ]
  },
  {
   "cell_type": "code",
   "execution_count": 11,
   "id": "8e456b7c",
   "metadata": {},
   "outputs": [],
   "source": [
    "#4. What is the difference between using a bare except block and specifying a specific exception type?"
   ]
  },
  {
   "cell_type": "code",
   "execution_count": 13,
   "id": "7da5dab1",
   "metadata": {},
   "outputs": [
    {
     "name": "stdout",
     "output_type": "stream",
     "text": [
      "An unknown error occurred.\n",
      "Cannot divide by zero.\n"
     ]
    }
   ],
   "source": [
    "\"\"\"\n",
    "\n",
    "The main difference between using a bare except block and specifying a specific exception type is that a bare except block will catch all exceptions, \n",
    "while a specific exception type will only catch that specific exception.\n",
    "\n",
    "\"\"\"\n",
    "\n",
    "#ex \n",
    "def divide_numbers(x, y):\n",
    "    try:\n",
    "        return x / y\n",
    "    except:\n",
    "        print(\"An unknown error occurred.\")\n",
    "\n",
    "result = divide_numbers(10, 0)\n",
    "\n",
    "\"\"\"\n",
    "This code will only print the message \"Cannot divide by zero\" if the function tries to divide by zero.\n",
    "If any other error occurs, the program will crash.\n",
    "\n",
    "\"\"\"\n",
    "\n",
    "#ex\n",
    "\n",
    "def divide_numbers(x, y):\n",
    "      try:\n",
    "        return x / y\n",
    "      except ZeroDivisionError:\n",
    "        print(\"Cannot divide by zero.\")\n",
    "\n",
    "result = divide_numbers(10, 0)\n"
   ]
  },
  {
   "cell_type": "code",
   "execution_count": null,
   "id": "682d0d43",
   "metadata": {},
   "outputs": [],
   "source": [
    "#5 Can you have nested try-except blocks in Python? If yes, then give an example."
   ]
  },
  {
   "cell_type": "code",
   "execution_count": 17,
   "id": "38df2cdf",
   "metadata": {},
   "outputs": [
    {
     "name": "stdout",
     "output_type": "stream",
     "text": [
      "Cannot divide by zero.\n"
     ]
    }
   ],
   "source": [
    "\"\"\"\n",
    "In this code, the first try-except block will try to divide the number 10 by the number 0. If this succeeds, the first try-except block will return the result of the division\n",
    ". However, if the division fails, the first try-except block will raise a ZeroDivisionError exception. \n",
    "This exception will be caught by the second try-except block, which will print the message \"Cannot divide by zero.\"\n",
    "\n",
    "If the first try-except block does not raise a ZeroDivisionError exception,\n",
    "but instead raises a TypeError exception, the second try-except block will catch that exception \n",
    "and print the message \"Invalid input.\"\n",
    "\"\"\"\n",
    "\n",
    "def divide_numbers(x, y):\n",
    "    try:\n",
    "        try:\n",
    "            return x / y\n",
    "        except ZeroDivisionError:\n",
    "            print(\"Cannot divide by zero.\")\n",
    "    except TypeError:\n",
    "        print(\"Invalid input.\")\n",
    "\n",
    "result = divide_numbers(10, 0)\n"
   ]
  },
  {
   "cell_type": "code",
   "execution_count": 15,
   "id": "9650e1f5",
   "metadata": {},
   "outputs": [],
   "source": [
    "#6 Can we use multiple exception blocks, if yes then give an example."
   ]
  },
  {
   "cell_type": "code",
   "execution_count": 18,
   "id": "35f1e7ce",
   "metadata": {},
   "outputs": [
    {
     "name": "stdout",
     "output_type": "stream",
     "text": [
      "Cannot divide by zero.\n"
     ]
    },
    {
     "data": {
      "text/plain": [
       "'\\n\\n\\n'"
      ]
     },
     "execution_count": 18,
     "metadata": {},
     "output_type": "execute_result"
    }
   ],
   "source": [
    "def divide_numbers(x, y):\n",
    "    try:\n",
    "        return x / y\n",
    "    except ZeroDivisionError:\n",
    "        print(\"Cannot divide by zero.\")\n",
    "    except TypeError:\n",
    "        print(\"Invalid input.\")\n",
    "    except Exception as e:\n",
    "        print(e)\n",
    "\n",
    "result = divide_numbers(10, 0)\n",
    "\n",
    "\"\"\"\n",
    "In this code, the first except block will catch the ZeroDivisionError exception.\n",
    "The second except block will catch the TypeError exception. The third except block will catch any other exception.\n",
    "\n",
    "The third except block is called a catch-all except block.\n",
    "It will catch any exception that is not caught by the first two except blocks.\n",
    "\n",
    "The multiple exception blocks allow you to handle different types of exceptions in a specific way.\n",
    "In this case, the first except block handles the ZeroDivisionError exception, the second except block handles the TypeError exception, and the third except block handles any other exception.\n",
    "\n",
    "\n",
    "\"\"\"\n"
   ]
  },
  {
   "cell_type": "code",
   "execution_count": 19,
   "id": "9bf8069e",
   "metadata": {},
   "outputs": [
    {
     "data": {
      "text/plain": [
       "'7.Write the reason due to which following errors are raised:\\na. EOFError\\nb. FloatingPointError\\nc. IndexError\\nd. MemoryError\\ne. OverflowError\\nf. TabError\\ng. ValueError\\n'"
      ]
     },
     "execution_count": 19,
     "metadata": {},
     "output_type": "execute_result"
    }
   ],
   "source": [
    "\"\"\"7.Write the reason due to which following errors are raised:\n",
    "a. EOFError\n",
    "b. FloatingPointError\n",
    "c. IndexError\n",
    "d. MemoryError\n",
    "e. OverflowError\n",
    "f. TabError\n",
    "g. ValueError\n",
    "\"\"\""
   ]
  },
  {
   "cell_type": "code",
   "execution_count": null,
   "id": "e7b88872",
   "metadata": {},
   "outputs": [],
   "source": [
    "\"\"\"\n",
    "EOFError ---> is raised when the end of a file is reached unexpectedly.\n",
    "This can happen if the file is empty, or if the user presses Ctrl+D while reading from the file.\n",
    "\n",
    "\n",
    "FloatingPointError----> is raised when a floating point operation fails. \n",
    "This can happen if the operation is mathematically impossible, such as dividing by zero,\n",
    "or if the number is too large or too small for the computer to represent.\n",
    "\n",
    "\n",
    "IndexError----> is raised when an index is out of range for a sequence. \n",
    "This can happen if you try to access an element of a list or string that does not exist.\n",
    "\n",
    "MemoryError ---->is raised when the computer runs out of memory. \n",
    "This can happen if you are allocating too much memory,\n",
    "or if you are not releasing memory that you are no longer using.\n",
    "\n",
    "OverflowError---> is raised when a numeric value is too large to be represented.\n",
    "This can happen if you try to store a number that is larger than the maximum value that a data type can represent.\n",
    "\n",
    "\n",
    "TabError---> is raised when a tab character is encountered in a string that is being parsed.\n",
    "This is because tabs are not allowed in strings.\n",
    "\n",
    "\n",
    "ValueError---> is raised when a built-in operation or function receives an argument that\n",
    "has the right type but an inappropriate value. This can happen \n",
    "if you try to convert a string to an integer, but the string does not contain a valid integer.\n",
    "\n",
    "\n",
    "\"\"\""
   ]
  },
  {
   "cell_type": "code",
   "execution_count": 20,
   "id": "acd28232",
   "metadata": {},
   "outputs": [
    {
     "data": {
      "text/plain": [
       "'\\n8. Write code for the following given scenario and add try-exception block to it.\\na. Program to divide two numbers\\nb. Program to convert a string to an integer\\nc. Program to access an element in a list\\nd. Program to handle a specific exception\\ne. Program to handle any exception\\n\\n'"
      ]
     },
     "execution_count": 20,
     "metadata": {},
     "output_type": "execute_result"
    }
   ],
   "source": [
    "\"\"\"\n",
    "8. Write code for the following given scenario and add try-exception block to it.\n",
    "a. Program to divide two numbers\n",
    "b. Program to convert a string to an integer\n",
    "c. Program to access an element in a list\n",
    "d. Program to handle a specific exception\n",
    "e. Program to handle any exception\n",
    "\n",
    "\"\"\""
   ]
  },
  {
   "cell_type": "code",
   "execution_count": 25,
   "id": "d9a288b4",
   "metadata": {},
   "outputs": [
    {
     "name": "stdout",
     "output_type": "stream",
     "text": [
      "Cannot divide by zero.\n",
      "Could not convert string to integer.\n",
      "Index out of range.\n",
      "Caught the exception.\n",
      "This is an exception.\n"
     ]
    }
   ],
   "source": [
    "#a \n",
    "\n",
    "def divide_numbers(x, y):\n",
    "    try:\n",
    "        return x / y\n",
    "    except ZeroDivisionError:\n",
    "        print(\"Cannot divide by zero.\")\n",
    "\n",
    "result = divide_numbers(10, 0)\n",
    "\n",
    "#b\n",
    "def convert_string_to_integer(string):\n",
    "    try:\n",
    "        return int(string)\n",
    "    except ValueError:\n",
    "        print(\"Could not convert string to integer.\")\n",
    "\n",
    "result = convert_string_to_integer(\"hello\")\n",
    "\n",
    "#c\n",
    "def access_element_in_list(list, index):\n",
    "      try:\n",
    "        return list[index]\n",
    "      except IndexError:\n",
    "        print(\"Index out of range.\")\n",
    "\n",
    "result = access_element_in_list([1, 2, 3], 4)\n",
    "\n",
    "#d\n",
    "\n",
    "def handle_specific_exception(exception_type):\n",
    "    try:\n",
    "        raise exception_type\n",
    "    except exception_type:\n",
    "        print(\"Caught the exception.\")\n",
    "\n",
    "handle_specific_exception(ZeroDivisionError)\n",
    "\n",
    "\n",
    "#e\n",
    "\n",
    "def handle_any_exception():\n",
    "    try:\n",
    "        raise Exception(\"This is an exception.\")\n",
    "    except Exception as e:\n",
    "        print(e)\n",
    "\n",
    "handle_any_exception()\n"
   ]
  },
  {
   "cell_type": "code",
   "execution_count": null,
   "id": "46d63a4a",
   "metadata": {},
   "outputs": [],
   "source": []
  }
 ],
 "metadata": {
  "kernelspec": {
   "display_name": "Python 3 (ipykernel)",
   "language": "python",
   "name": "python3"
  },
  "language_info": {
   "codemirror_mode": {
    "name": "ipython",
    "version": 3
   },
   "file_extension": ".py",
   "mimetype": "text/x-python",
   "name": "python",
   "nbconvert_exporter": "python",
   "pygments_lexer": "ipython3",
   "version": "3.9.12"
  }
 },
 "nbformat": 4,
 "nbformat_minor": 5
}
