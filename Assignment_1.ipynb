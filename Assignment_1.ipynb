{
 "cells": [
  {
   "cell_type": "markdown",
   "id": "edc0c38e",
   "metadata": {},
   "source": [
    "\n",
    "Q.No - 1"
   ]
  },
  {
   "cell_type": "markdown",
   "id": "efec2f5a",
   "metadata": {},
   "source": [
    "\"\"\"In the below elements which of them are values or an expression?\n",
    "eg:- values can be integer or string and expressions will be mathematical operators.\"\"\"\n",
    "\n",
    "*\n",
    "'hello'\n",
    "-87.8\n",
    "- \n",
    "/ \n",
    "+\t\n",
    "6 "
   ]
  },
  {
   "cell_type": "code",
   "execution_count": 2,
   "id": "b7a4014e",
   "metadata": {},
   "outputs": [
    {
     "name": "stdout",
     "output_type": "stream",
     "text": [
      "['hello', -87.8, 6] ==================These are Values\n",
      "['*', '-', '/', '+'] ==================These are expression\n"
     ]
    }
   ],
   "source": [
    "values = ['hello',-87.8,6]\n",
    "print(values,'==================These are Values')\n",
    "expression = ['*','-','/','+']\n",
    "print(expression,'==================These are expression')"
   ]
  },
  {
   "cell_type": "markdown",
   "id": "49b2f863",
   "metadata": {},
   "source": [
    "Q.No - 2"
   ]
  },
  {
   "cell_type": "markdown",
   "id": "59bc618c",
   "metadata": {},
   "source": [
    "What is the difference between string and variable?"
   ]
  },
  {
   "cell_type": "code",
   "execution_count": 6,
   "id": "0024ba87",
   "metadata": {},
   "outputs": [
    {
     "ename": "SyntaxError",
     "evalue": "invalid syntax (3914245172.py, line 3)",
     "output_type": "error",
     "traceback": [
      "\u001b[1;36m  Input \u001b[1;32mIn [6]\u001b[1;36m\u001b[0m\n\u001b[1;33m    a ---> variable\u001b[0m\n\u001b[1;37m        ^\u001b[0m\n\u001b[1;31mSyntaxError\u001b[0m\u001b[1;31m:\u001b[0m invalid syntax\n"
     ]
    }
   ],
   "source": [
    "\n",
    "\n",
    "#Variable\n",
    "\"\"\"\n",
    "store the values of different data types \n",
    "once program was executed can't change the variable \n",
    "\n",
    "\"\"\"\n",
    "\n",
    "# string \n",
    "\n",
    "\"\"\"\n",
    "string is one of the data type , \n",
    "strings are enclosed in quotation marks\n",
    "\n",
    "\"\"\"\n",
    "\n",
    "# eg\n",
    "\n",
    "a = \"Assignment_1\"\n",
    "\n",
    "\"\"\"\n",
    "a ---> variable\n",
    "\"Assignment_1\" ------> string\n",
    "\n",
    "\"\"\""
   ]
  },
  {
   "cell_type": "markdown",
   "id": "44fd9612",
   "metadata": {},
   "source": [
    "Q.No- 3 : Describe three different data types."
   ]
  },
  {
   "cell_type": "code",
   "execution_count": null,
   "id": "2a6c1ea2",
   "metadata": {},
   "outputs": [],
   "source": [
    "\"\"\"\n",
    "Integer (int): The integer data type represents whole numbers without decimal points. \n",
    "It can be positive or negative, including zero. For example, x = 5 or y = -10 assigns integer values to variables x and y,\n",
    "respectively\n",
    "\n",
    "String (str): The string data type represents a sequence of characters. \n",
    "It is used to store and manipulate textual data. Strings are enclosed in either single quotes ('') or double quotes (\"\"). \n",
    "For example, name = \"John\" assigns the string \"John\" to the variable name. \n",
    "\n",
    "\n",
    "Boolean (bool): The boolean data type represents truth values, \n",
    "either True or False. Booleans are typically used in logical expressions and conditional statements to make decisions.\n",
    "For example, is_valid = True assigns the boolean value True to the variable is_valid.\n",
    "Booleans are used for comparisons, conditions, and control flow in programming\n",
    "\n",
    "\"\"\""
   ]
  },
  {
   "cell_type": "markdown",
   "id": "45db8051",
   "metadata": {},
   "source": [
    "4. What is an expression made up of? What do all expressions do?"
   ]
  },
  {
   "cell_type": "code",
   "execution_count": null,
   "id": "6cd9203b",
   "metadata": {},
   "outputs": [],
   "source": [
    "\"\"\"\n",
    "An expression in programming is a combination of one or more values, variables, operators, \n",
    "and function calls that can be evaluated to produce a result.\n",
    "It represents a computation or operation that needs to be performed.\n",
    "\n",
    "arithmetic operators (+, -, *, /)\n",
    "comparison operators (==, >, <) \n",
    "logical operators (and, or, not)\n",
    "\n",
    "expressions are combinations of values, variables, operators, and \n",
    "function calls that are evaluated to produce a result in programming\n",
    "\n",
    "\"\"\""
   ]
  },
  {
   "cell_type": "markdown",
   "id": "28b0fe9f",
   "metadata": {},
   "source": [
    "5. This assignment statements, like spam = 10. What is the difference between an expression and a statement?"
   ]
  },
  {
   "cell_type": "code",
   "execution_count": 7,
   "id": "f9800979",
   "metadata": {},
   "outputs": [
    {
     "data": {
      "text/plain": [
       "\"\\nExpressions are evaluated to produce a value, whereas statements do not have an associated value.\\n\\nExpressions typically do not have side effects, \\nmeaning they don't alter the program's state or perform actions other than returning a value\\n. On the other hand, statements often have side effects by modifying variables, interacting with I/O, \\nor controlling the program's execution.\\n\\nExpressions are commonly used within statements. For example, an expression can be used as part of an assignment \\nstatement or as a condition in an if statement.\\n\\nIn the assignment statement example you provided (spam = 10),\\nthe right side of the assignment is an expression (10), and the entire line is a statement that assigns \\nthe value 10 to the variable spam.\\n\\n\\n\""
      ]
     },
     "execution_count": 7,
     "metadata": {},
     "output_type": "execute_result"
    }
   ],
   "source": [
    "\"\"\"\n",
    "Expressions are evaluated to produce a value, whereas statements do not have an associated value.\n",
    "\n",
    "Expressions typically do not have side effects, \n",
    "meaning they don't alter the program's state or perform actions other than returning a value\n",
    ". On the other hand, statements often have side effects by modifying variables, interacting with I/O, \n",
    "or controlling the program's execution.\n",
    "\n",
    "Expressions are commonly used within statements. For example, an expression can be used as part of an assignment \n",
    "statement or as a condition in an if statement.\n",
    "\n",
    "In the assignment statement example you provided (spam = 10),\n",
    "the right side of the assignment is an expression (10), and the entire line is a statement that assigns \n",
    "the value 10 to the variable spam.\n",
    "\n",
    "\n",
    "\"\"\""
   ]
  },
  {
   "cell_type": "markdown",
   "id": "e1e21d1a",
   "metadata": {},
   "source": [
    "6. After running the following code, what does the variable bacon contain?\n"
   ]
  },
  {
   "cell_type": "code",
   "execution_count": 10,
   "id": "02ebabf4",
   "metadata": {},
   "outputs": [
    {
     "name": "stdout",
     "output_type": "stream",
     "text": [
      "22\n"
     ]
    }
   ],
   "source": [
    "bacon = 22\n",
    "bacon + 1\n",
    "\n",
    "\"\"\"\n",
    "bacon contain 23 , because bacon store the integer value of 22 then add 1 using arithemetic operation its contains \n",
    "23\n",
    "\"\"\"\n",
    "print(bacon)"
   ]
  },
  {
   "cell_type": "markdown",
   "id": "6f990c3f",
   "metadata": {},
   "source": [
    "7. What should the values of the following two terms be?\n",
    "\n"
   ]
  },
  {
   "cell_type": "code",
   "execution_count": 13,
   "id": "5eaae682",
   "metadata": {},
   "outputs": [
    {
     "name": "stdout",
     "output_type": "stream",
     "text": [
      "spamspamspam ------>a\n",
      "spamspamspam ------>b\n"
     ]
    },
    {
     "data": {
      "text/plain": [
       "\"\\nboth are same output\\na = 'spam' + 'spamspam' --- > its type of expression called concatenation , using cancat method add two different or same string values\\n\\nb = 'spam' * 3 ---->this type of expression performs string repetition,how many times want particular string using multiple operation perform looks following output \\n\""
      ]
     },
     "execution_count": 13,
     "metadata": {},
     "output_type": "execute_result"
    }
   ],
   "source": [
    "a = 'spam' + 'spamspam'\n",
    "b = 'spam' * 3\n",
    "\n",
    "print(a,'------>a')\n",
    "print(b,'------>b')\n",
    "\n",
    "\"\"\"\n",
    "both are same output\n",
    "a = 'spam' + 'spamspam' --- > its type of expression called concatenation , using cancat method add two different or same string values\n",
    "\n",
    "b = 'spam' * 3 ---->this type of expression performs string repetition,how many times want particular string using multiple operation perform looks following output \n",
    "\"\"\""
   ]
  },
  {
   "cell_type": "markdown",
   "id": "e33045c8",
   "metadata": {},
   "source": [
    "8. Why is eggs a valid variable name while 100 is invalid?"
   ]
  },
  {
   "cell_type": "code",
   "execution_count": 16,
   "id": "2b3103f4",
   "metadata": {},
   "outputs": [
    {
     "data": {
      "text/plain": [
       "'\\npython -- assign variable name must be start letter not interger \\n\\n'"
      ]
     },
     "execution_count": 16,
     "metadata": {},
     "output_type": "execute_result"
    }
   ],
   "source": [
    "\"\"\"\n",
    "python -- assign variable name must be start with letter (a-z) (A-Z) or underscore(_) not interger \n",
    "\n",
    "\n",
    "eggs --> start letter (valid)\n",
    "\n",
    "100 ---> its integer (not valid)\n",
    "\n",
    "\"\"\""
   ]
  },
  {
   "cell_type": "markdown",
   "id": "f2777869",
   "metadata": {},
   "source": [
    "9. What three functions can be used to get the integer, floating-point number, or string version of a value?\n",
    "\n"
   ]
  },
  {
   "cell_type": "code",
   "execution_count": 21,
   "id": "7c3e6dd8",
   "metadata": {},
   "outputs": [
    {
     "name": "stdout",
     "output_type": "stream",
     "text": [
      "200 ----------------get the integer <class 'int'>\n",
      "200.23 ----------------floating-point number <class 'float'>\n",
      "200 ----------------string <class 'str'>\n"
     ]
    }
   ],
   "source": [
    "# integer\n",
    "a = \"200\"\n",
    "convert_int = int(a)\n",
    "print(convert_int,'----------------get the integer',type(convert_int))\n",
    "\n",
    "# float\n",
    "b = \"200.23\"\n",
    "convert_float = float(b)\n",
    "print(convert_float,'----------------floating-point number',type(convert_float))\n",
    "\n",
    "# string\n",
    "c = 200\n",
    "convert_str = str(c)\n",
    "print(convert_str,'----------------string',type(convert_str))"
   ]
  },
  {
   "cell_type": "markdown",
   "id": "5d6a7432",
   "metadata": {},
   "source": [
    "10. Why does this expression cause an error? How can you fix it?\n",
    "\n",
    "\n",
    "'I have eaten ' + 99 + ' burritos.'"
   ]
  },
  {
   "cell_type": "code",
   "execution_count": 18,
   "id": "0e0e9e82",
   "metadata": {},
   "outputs": [
    {
     "data": {
      "text/plain": [
       "'I have eaten 99 burritos.'"
      ]
     },
     "execution_count": 18,
     "metadata": {},
     "output_type": "execute_result"
    }
   ],
   "source": [
    "\"\"\"\n",
    "'I have eaten ' + 99 + ' burritos.' ---> its looks like cancat method , basically cancat method all are must be string data type\n",
    "\n",
    "but 99 --> integer so convert int to str then its works \n",
    "\n",
    "\"\"\"\n",
    "'I have eaten ' + '99' + ' burritos.'"
   ]
  },
  {
   "cell_type": "code",
   "execution_count": null,
   "id": "7f9bcb6c",
   "metadata": {},
   "outputs": [],
   "source": []
  }
 ],
 "metadata": {
  "kernelspec": {
   "display_name": "Python 3 (ipykernel)",
   "language": "python",
   "name": "python3"
  },
  "language_info": {
   "codemirror_mode": {
    "name": "ipython",
    "version": 3
   },
   "file_extension": ".py",
   "mimetype": "text/x-python",
   "name": "python",
   "nbconvert_exporter": "python",
   "pygments_lexer": "ipython3",
   "version": "3.9.12"
  }
 },
 "nbformat": 4,
 "nbformat_minor": 5
}
