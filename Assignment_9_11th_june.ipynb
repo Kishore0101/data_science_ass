{
 "cells": [
  {
   "cell_type": "code",
   "execution_count": 1,
   "id": "d435f33b",
   "metadata": {},
   "outputs": [],
   "source": [
    "#1. What is a lambda function in Python, and how does it differ from a regular function?"
   ]
  },
  {
   "cell_type": "code",
   "execution_count": 2,
   "id": "193daa77",
   "metadata": {},
   "outputs": [
    {
     "name": "stdout",
     "output_type": "stream",
     "text": [
      "10\n"
     ]
    }
   ],
   "source": [
    "\"\"\"\n",
    "A lambda function in Python is a small, anonymous function. \n",
    "It is defined using the lambda keyword, followed by the arguments, a colon, and \n",
    "the expression that the function will evaluate. Lambda functions can be used anywhere that a regular function can be used,\n",
    "but they have some important differences.\n",
    "\n",
    "\"\"\"\n",
    "#Lambda functions are anonymous. This means that they do not have a name, so they cannot be called by name. They can only be passed around as values or used as the argument to other functions.\n",
    "#Lambda functions can only have one expression. This means that they cannot contain any blocks of code, only a single expression.\n",
    "#Lambda functions are often used with other functions, such as map() and filter(). These functions take a function as an argument, and the lambda function is used to evaluate each element in the iterable.\n",
    "\n",
    "double = lambda x: x * 2\n",
    "\n",
    "print(double(5))\n"
   ]
  },
  {
   "cell_type": "code",
   "execution_count": null,
   "id": "a82c4ed2",
   "metadata": {},
   "outputs": [],
   "source": [
    "#2 Can a lambda function in Python have multiple arguments? If yes, how can you define and use them?"
   ]
  },
  {
   "cell_type": "code",
   "execution_count": 9,
   "id": "4eb68b07",
   "metadata": {},
   "outputs": [
    {
     "name": "stdout",
     "output_type": "stream",
     "text": [
      "30\n"
     ]
    }
   ],
   "source": [
    "\"\"\"\n",
    " lambda function in Python can have multiple arguments. The syntax for defining a lambda function with multiple arguments is the same as for \n",
    " defining a lambda function with one argument, except that the arguments are separated by commas.\n",
    " For example, the following code defines a lambda function with two arguments\n",
    "\n",
    "\"\"\"\n",
    "\n",
    "add = lambda x, y: x + y\n",
    "\n",
    "print(add(10, 20))\n"
   ]
  },
  {
   "cell_type": "code",
   "execution_count": 4,
   "id": "ca853c00",
   "metadata": {},
   "outputs": [],
   "source": [
    "#3 How are lambda functions typically used in Python? Provide an example use case."
   ]
  },
  {
   "cell_type": "code",
   "execution_count": 8,
   "id": "0d5ae1c8",
   "metadata": {},
   "outputs": [
    {
     "name": "stdout",
     "output_type": "stream",
     "text": [
      "[1, 4, 9, 16, 25]\n"
     ]
    }
   ],
   "source": [
    "\"\"\"\n",
    "Lambda functions in Python are typically used in situations where you need a small,\n",
    "short-lived function for a specific task without the need to define a separate named function. \n",
    "They are particularly useful in functional programming and situations where you need to pass a function as an argument to another function.\n",
    "\n",
    "One common use case for lambda functions is in combination with built-in functions\n",
    "like map(), filter(), and reduce(). These functions take a function as one of their arguments and apply that\n",
    "function to elements in a sequence, allowing you to perform operations on each element or filter elements based on a condition.\n",
    "\n",
    "\"\"\"\n",
    "\n",
    "\n",
    "numbers = [1, 2, 3, 4, 5]\n",
    "\n",
    "squared_numbers = list(map(lambda x: x**2, numbers))\n",
    "\n",
    "print(squared_numbers)  # Output: [1, 4, 9, 16, 25]\n",
    "\n"
   ]
  },
  {
   "cell_type": "code",
   "execution_count": null,
   "id": "607a40b5",
   "metadata": {},
   "outputs": [],
   "source": [
    "#4 What are the advantages and limitations of lambda functions compared to regular functions in Python?"
   ]
  },
  {
   "cell_type": "code",
   "execution_count": null,
   "id": "fd29f0a5",
   "metadata": {},
   "outputs": [],
   "source": [
    "\"\"\"\n",
    "Advantages of lambda functions:\n",
    "\n",
    "Short and concise. Lambda functions are typically much shorter and more concise than regular functions. This makes them easier to read and understand, \n",
    "and they can be used in places where regular functions would be too verbose.\n",
    "Efficient. Lambda functions are often more efficient than regular functions, because they do not have to create a new scope or save the function definition in memory.\n",
    "Flexible. Lambda functions can be used in a variety of ways, including as the argument to other functions, in list comprehensions, and in map() and filter() functions.\n",
    "\n",
    "\n",
    "Limitations of lambda functions:\n",
    "\n",
    "No name. Lambda functions do not have a name, so they cannot be called by name. They can only be passed around as values or used as the argument to other functions.\n",
    "Single expression. Lambda functions can only have a single expression. This means that they cannot contain any blocks of code, only a single expression.\n",
    "Not reusable. Lambda functions are not reusable. Once they have been defined, they cannot be called again.\n",
    "\n",
    "\"\"\""
   ]
  },
  {
   "cell_type": "code",
   "execution_count": null,
   "id": "70023d6d",
   "metadata": {},
   "outputs": [],
   "source": [
    "#5 Are lambda functions in Python able to access variables defined outside of their own scope?Explain with an example."
   ]
  },
  {
   "cell_type": "code",
   "execution_count": 7,
   "id": "948c2388",
   "metadata": {},
   "outputs": [
    {
     "name": "stdout",
     "output_type": "stream",
     "text": [
      "15\n"
     ]
    }
   ],
   "source": [
    "\"\"\"\n",
    "Yes, lambda functions in Python can access variables defined outside of their own scope. In Python,\n",
    "lambda functions are also known as anonymous functions. They are defined using the lambda keyword and are capable of accessing variables from the containing scope.\n",
    "The variables accessed by the lambda function are \"closed over\" or \"captured\" by the lambda function.\n",
    "\n",
    "\"\"\"\n",
    "\n",
    "\n",
    "def outer_function(x):\n",
    "    inner_lambda = lambda y: x + y\n",
    "    return inner_lambda\n",
    "\n",
    "lambda_func = outer_function(10)\n",
    "\n",
    "result = lambda_func(5)\n",
    "print(result)  # Output: 15 (10 + 5)\n"
   ]
  },
  {
   "cell_type": "code",
   "execution_count": null,
   "id": "a0c7325f",
   "metadata": {},
   "outputs": [],
   "source": [
    "#6 Write a lambda function to calculate the square of a given number."
   ]
  },
  {
   "cell_type": "code",
   "execution_count": 6,
   "id": "b0a73ee3",
   "metadata": {},
   "outputs": [
    {
     "name": "stdout",
     "output_type": "stream",
     "text": [
      "25\n"
     ]
    }
   ],
   "source": [
    "square = lambda x: x ** 2\n",
    "\n",
    "# Testing the lambda function\n",
    "number = 5\n",
    "result = square(number)\n",
    "print(result)  # Output: 25\n"
   ]
  },
  {
   "cell_type": "code",
   "execution_count": null,
   "id": "37716394",
   "metadata": {},
   "outputs": [],
   "source": [
    "#7 Create a lambda function to find the maximum value in a list of integers"
   ]
  },
  {
   "cell_type": "code",
   "execution_count": 5,
   "id": "3fda484c",
   "metadata": {},
   "outputs": [
    {
     "name": "stdout",
     "output_type": "stream",
     "text": [
      "22\n"
     ]
    }
   ],
   "source": [
    "find_max = lambda lst: max(lst)\n",
    "numbers = [15, 6, 22, 9, 13]\n",
    "result = find_max(numbers)\n",
    "print(result)  # Output: 22\n"
   ]
  },
  {
   "cell_type": "code",
   "execution_count": 7,
   "id": "3f3efafc",
   "metadata": {},
   "outputs": [],
   "source": [
    "#8 Implement a lambda function to filter out all the even numbers from a list of integers."
   ]
  },
  {
   "cell_type": "code",
   "execution_count": 8,
   "id": "595d0d2a",
   "metadata": {},
   "outputs": [
    {
     "name": "stdout",
     "output_type": "stream",
     "text": [
      "[4, 2, 8, 6]\n"
     ]
    }
   ],
   "source": [
    "filter_even = lambda lst: list(filter(lambda x: x % 2 == 0, lst))\n",
    "numbers = [1, 4, 7, 2, 8, 11, 6]\n",
    "result = filter_even(numbers)\n",
    "print(result)  # Output: [4, 2, 8, 6]"
   ]
  },
  {
   "cell_type": "code",
   "execution_count": 9,
   "id": "82c8607a",
   "metadata": {},
   "outputs": [
    {
     "name": "stdout",
     "output_type": "stream",
     "text": [
      "['kiwi', 'apple', 'grape', 'banana', 'orange']\n"
     ]
    }
   ],
   "source": [
    "#9 Write a lambda function to sort a list of strings in ascending order based on the length of each string.\n",
    "sort_by_length = lambda lst: sorted(lst, key=lambda x: len(x))\n",
    "strings = [\"apple\", \"banana\", \"orange\", \"grape\", \"kiwi\"]\n",
    "result = sort_by_length(strings)\n",
    "print(result)  # Output: ['kiwi', 'grape', 'apple', 'banana', 'orange']\n"
   ]
  },
  {
   "cell_type": "code",
   "execution_count": null,
   "id": "f354d38d",
   "metadata": {},
   "outputs": [],
   "source": [
    "#10 Create a lambda function that takes two lists as input and returns a new list containing the common elements between the two lists."
   ]
  },
  {
   "cell_type": "code",
   "execution_count": 10,
   "id": "46bbc2d5",
   "metadata": {},
   "outputs": [
    {
     "name": "stdout",
     "output_type": "stream",
     "text": [
      "[3, 4, 5]\n"
     ]
    }
   ],
   "source": [
    "find_common_elements = lambda list1, list2: list(filter(lambda x: x in list2, list1))\n",
    "list1 = [1, 2, 3, 4, 5]\n",
    "list2 = [3, 4, 5, 6, 7]\n",
    "result = find_common_elements(list1, list2)\n",
    "print(result)  # Output: [3, 4, 5]\n"
   ]
  },
  {
   "cell_type": "code",
   "execution_count": 11,
   "id": "71f7c0bf",
   "metadata": {},
   "outputs": [],
   "source": [
    "#11Write a recursive function to calculate the factorial of a given positive integer."
   ]
  },
  {
   "cell_type": "code",
   "execution_count": 12,
   "id": "86fada83",
   "metadata": {},
   "outputs": [
    {
     "name": "stdout",
     "output_type": "stream",
     "text": [
      "120\n"
     ]
    }
   ],
   "source": [
    "def factorial(n):\n",
    "    if n == 0:\n",
    "        return 1\n",
    "    else:\n",
    "        return n * factorial(n - 1)\n",
    "print(factorial(5))  # Output: 120 (5! = 5 * 4 * 3 * 2 * 1 = 120)"
   ]
  },
  {
   "cell_type": "code",
   "execution_count": 13,
   "id": "da976987",
   "metadata": {},
   "outputs": [],
   "source": [
    "#12 Implement a recursive function to compute the nth Fibonacci number."
   ]
  },
  {
   "cell_type": "code",
   "execution_count": 14,
   "id": "2d91b641",
   "metadata": {},
   "outputs": [
    {
     "name": "stdout",
     "output_type": "stream",
     "text": [
      "34\n"
     ]
    }
   ],
   "source": [
    "def fibonacci(n):\n",
    "    if n <= 0:\n",
    "        raise ValueError(\"Fibonacci sequence is only defined for positive integers.\")\n",
    "    elif n == 1:\n",
    "        return 0\n",
    "    elif n == 2:\n",
    "        return 1\n",
    "    else:\n",
    "        return fibonacci(n - 1) + fibonacci(n - 2)\n",
    "\n",
    "print(fibonacci(10)) # Output: 34"
   ]
  },
  {
   "cell_type": "code",
   "execution_count": 15,
   "id": "de318eff",
   "metadata": {},
   "outputs": [],
   "source": [
    "#13 Create a recursive function to find the sum of all the elements in a given list.?"
   ]
  },
  {
   "cell_type": "code",
   "execution_count": 2,
   "id": "7f2667e6",
   "metadata": {},
   "outputs": [
    {
     "name": "stdout",
     "output_type": "stream",
     "text": [
      "15\n"
     ]
    }
   ],
   "source": [
    "def list_sum(lst):\n",
    "    if not lst:  # Base case: if the list is empty, return 0\n",
    "        return 0\n",
    "    else:\n",
    "        return lst[0] + list_sum(lst[1:])\n",
    "print(list_sum([1, 2, 3, 4, 5]))  # Output: 15 (1 + 2 + 3 + 4 + 5)\n",
    "\n"
   ]
  },
  {
   "cell_type": "code",
   "execution_count": 3,
   "id": "a7ea86ba",
   "metadata": {},
   "outputs": [],
   "source": [
    "#14. Write a recursive function to determine whether a given string is a palindrome."
   ]
  },
  {
   "cell_type": "code",
   "execution_count": 4,
   "id": "c16ab97c",
   "metadata": {},
   "outputs": [
    {
     "name": "stdout",
     "output_type": "stream",
     "text": [
      "True\n"
     ]
    }
   ],
   "source": [
    "def is_palindrome(s):\n",
    "    s = s.lower().replace(\" \", \"\") \n",
    "    if len(s) <= 1: \n",
    "        return True\n",
    "    elif s[0] != s[-1]:\n",
    "        return False\n",
    "    else:\n",
    "        return is_palindrome(s[1:-1])  # Recursively check the remaining substring\n",
    "print(is_palindrome(\"racecar\"))"
   ]
  },
  {
   "cell_type": "code",
   "execution_count": 5,
   "id": "bba89dd0",
   "metadata": {},
   "outputs": [],
   "source": [
    "#15. Implement a recursive function to find the greatest common divisor (GCD) of two positive integers."
   ]
  },
  {
   "cell_type": "code",
   "execution_count": 6,
   "id": "eecd7f04",
   "metadata": {},
   "outputs": [
    {
     "name": "stdout",
     "output_type": "stream",
     "text": [
      "6\n"
     ]
    }
   ],
   "source": [
    "def gcd(a, b):\n",
    "    if b == 0:\n",
    "        return a\n",
    "    else:\n",
    "        return gcd(b, a % b)\n",
    "print(gcd(12, 18))"
   ]
  },
  {
   "cell_type": "code",
   "execution_count": null,
   "id": "7d70ba98",
   "metadata": {},
   "outputs": [],
   "source": []
  }
 ],
 "metadata": {
  "kernelspec": {
   "display_name": "Python 3 (ipykernel)",
   "language": "python",
   "name": "python3"
  },
  "language_info": {
   "codemirror_mode": {
    "name": "ipython",
    "version": 3
   },
   "file_extension": ".py",
   "mimetype": "text/x-python",
   "name": "python",
   "nbconvert_exporter": "python",
   "pygments_lexer": "ipython3",
   "version": "3.9.12"
  }
 },
 "nbformat": 4,
 "nbformat_minor": 5
}
