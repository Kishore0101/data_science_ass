{
 "cells": [
  {
   "cell_type": "markdown",
   "id": "19fc52e5",
   "metadata": {},
   "source": [
    "1.What are keywords in python? Using the keyword library, print all the python keywords."
   ]
  },
  {
   "cell_type": "code",
   "execution_count": 1,
   "id": "9ebd7a11",
   "metadata": {},
   "outputs": [
    {
     "name": "stdout",
     "output_type": "stream",
     "text": [
      "['False', 'None', 'True', '__peg_parser__', 'and', 'as', 'assert', 'async', 'await', 'break', 'class', 'continue', 'def', 'del', 'elif', 'else', 'except', 'finally', 'for', 'from', 'global', 'if', 'import', 'in', 'is', 'lambda', 'nonlocal', 'not', 'or', 'pass', 'raise', 'return', 'try', 'while', 'with', 'yield']\n"
     ]
    }
   ],
   "source": [
    "\"\"\"\n",
    "Keywords are reserved words in Python that have special meanings to the compiler.\n",
    "We cannot use a keyword as a variable name, function name, or any other identifier.\n",
    "\"\"\"\n",
    "\n",
    "import keyword\n",
    "\n",
    "print(keyword.kwlist)"
   ]
  },
  {
   "cell_type": "markdown",
   "id": "c5991e82",
   "metadata": {},
   "source": [
    "2.What are the rules to create variables in python?"
   ]
  },
  {
   "cell_type": "code",
   "execution_count": null,
   "id": "1701ab0a",
   "metadata": {},
   "outputs": [],
   "source": [
    "\"\"\"\n",
    "Variable names must start with a letter or an underscore.\n",
    "Variable names cannot start with a number.\n",
    "Variable names can only contain alpha-numeric characters and underscores.\n",
    "Variable names are case-sensitive.\n",
    "Variable names cannot be any of the Python keywords.\n",
    "\n",
    "\"\"\"\n",
    "\n",
    "# vaild variable\n",
    "my_variable = 10\n",
    "my_variable_2 = \"Hello, world!\"\n",
    "my_underscore_variable = 123456\n",
    "\n",
    "#invaild variable\n",
    "\n",
    "10_variable_name  \n",
    "my keyword = 123"
   ]
  },
  {
   "cell_type": "markdown",
   "id": "8297efbc",
   "metadata": {},
   "source": [
    "3.What are the standards and conventions followed for the nomenclature of variables in\n",
    "python to improve code readability and maintainability?"
   ]
  },
  {
   "cell_type": "code",
   "execution_count": null,
   "id": "71b9e931",
   "metadata": {},
   "outputs": [],
   "source": [
    "\"\"\"\n",
    "Use names that are relevant to the context in which they are used.\n",
    "Use names that are short but descriptive.\n",
    "Avoid using names that are too similar to each other.\n",
    "Use names that are consistent with the rest of your code.\n",
    "\n",
    "Use descriptive variable names.\n",
    "#ex dont use x,y use proper name ---> total_values\n",
    "Avoid using abbreviations in variable names\n",
    "#ex t_val -->wrong\n",
    "    total_values ---> correct\n",
    "Do not use keywords as variable names\n",
    "Use consistent naming conventions.\n",
    "\n",
    "\"\"\""
   ]
  },
  {
   "cell_type": "code",
   "execution_count": 3,
   "id": "fc5d80b6",
   "metadata": {},
   "outputs": [
    {
     "name": "stdout",
     "output_type": "stream",
     "text": [
      "Object `name` not found.\n"
     ]
    }
   ],
   "source": [
    "4.What will happen if a keyword is used as a variable name?"
   ]
  },
  {
   "cell_type": "markdown",
   "id": "7fd9fb65",
   "metadata": {},
   "source": [
    "4.What will happen if a keyword is used as a variable name?"
   ]
  },
  {
   "cell_type": "code",
   "execution_count": 5,
   "id": "1f0eba0f",
   "metadata": {},
   "outputs": [
    {
     "ename": "SyntaxError",
     "evalue": "invalid syntax (1053632671.py, line 5)",
     "output_type": "error",
     "traceback": [
      "\u001b[1;36m  Input \u001b[1;32mIn [5]\u001b[1;36m\u001b[0m\n\u001b[1;33m    class = 123\u001b[0m\n\u001b[1;37m          ^\u001b[0m\n\u001b[1;31mSyntaxError\u001b[0m\u001b[1;31m:\u001b[0m invalid syntax\n"
     ]
    }
   ],
   "source": [
    "\"\"\"\n",
    "it will raise syntax error\n",
    "\"\"\"\n",
    "\n",
    "class = 123 \n",
    "def = 1\n"
   ]
  },
  {
   "cell_type": "markdown",
   "id": "7d1e6643",
   "metadata": {},
   "source": [
    "5. For what purpose def keyword is used?"
   ]
  },
  {
   "cell_type": "code",
   "execution_count": 6,
   "id": "b5c7790d",
   "metadata": {},
   "outputs": [
    {
     "data": {
      "text/plain": [
       "True"
      ]
     },
     "execution_count": 6,
     "metadata": {},
     "output_type": "execute_result"
    }
   ],
   "source": [
    "\"\"\"\n",
    "\n",
    "def keyword used for create function\n",
    "\n",
    "\"\"\"\n",
    "#ex\n",
    "def sample(n):\n",
    "    if n==1:\n",
    "        return True\n",
    "    else:\n",
    "        return False\n",
    "sample(1)"
   ]
  },
  {
   "cell_type": "markdown",
   "id": "b9bd0cff",
   "metadata": {},
   "source": [
    "6.What is the operation of this special character ‘\\’?"
   ]
  },
  {
   "cell_type": "code",
   "execution_count": 11,
   "id": "e68e750a",
   "metadata": {},
   "outputs": [
    {
     "name": "stdout",
     "output_type": "stream",
     "text": [
      "I am kishore \\n from ineuron.\n",
      "I am kishore\n",
      "from ineuron.\n",
      "I am kishore \\ from ineuron.\n"
     ]
    }
   ],
   "source": [
    "print(\"I am kishore \\\\n from ineuron.\")--->Escaping characters\n",
    "print(\"I am kishore\\nfrom ineuron.\")---->Creating newlines\n",
    "print(\"I am kishore \\\\ from ineuron.\")--->Representing special characters"
   ]
  },
  {
   "cell_type": "markdown",
   "id": "7ea218a5",
   "metadata": {},
   "source": [
    "7. Give an example of the following conditions:\n",
    "(i) Homogeneous list\n",
    "(ii) Heterogeneous set\n",
    "(iii) Homogeneous tuple"
   ]
  },
  {
   "cell_type": "code",
   "execution_count": null,
   "id": "f423240f",
   "metadata": {},
   "outputs": [],
   "source": [
    "\"\"\"\n",
    "Homogeneous -->contains same data type\n",
    "\n",
    "Heterogeneous--->contains different data type\n",
    "\"\"\"\n",
    "\n",
    "#Homogeneous list\n",
    "list_of_integers = [1, 2, 3, 4, 5]\n",
    "#Heterogeneous set\n",
    "set_of_objects = {1, \"hello\", 3.14}\n",
    "#Homogeneous tuple\n",
    "tuple_of_strings = (\"hello\", \"world\", \"goodbye\")"
   ]
  },
  {
   "cell_type": "markdown",
   "id": "f16264b0",
   "metadata": {},
   "source": [
    "8. Explain the mutable and immutable data types with proper explanation & examples."
   ]
  },
  {
   "cell_type": "code",
   "execution_count": 13,
   "id": "144414fb",
   "metadata": {},
   "outputs": [
    {
     "name": "stdout",
     "output_type": "stream",
     "text": [
      "[1, 2, 3, 4, 5]\n"
     ]
    },
    {
     "ename": "TypeError",
     "evalue": "'tuple' object does not support item assignment",
     "output_type": "error",
     "traceback": [
      "\u001b[1;31m---------------------------------------------------------------------------\u001b[0m",
      "\u001b[1;31mTypeError\u001b[0m                                 Traceback (most recent call last)",
      "Input \u001b[1;32mIn [13]\u001b[0m, in \u001b[0;36m<cell line: 24>\u001b[1;34m()\u001b[0m\n\u001b[0;32m     21\u001b[0m tup_num \u001b[38;5;241m=\u001b[39m (\u001b[38;5;241m1\u001b[39m, \u001b[38;5;241m2\u001b[39m, \u001b[38;5;241m3\u001b[39m,\u001b[38;5;241m4\u001b[39m)\n\u001b[0;32m     23\u001b[0m \u001b[38;5;66;03m# This will raise an error:\u001b[39;00m\n\u001b[1;32m---> 24\u001b[0m tup_num[\u001b[38;5;241m0\u001b[39m] \u001b[38;5;241m=\u001b[39m \u001b[38;5;241m5\u001b[39m\n",
      "\u001b[1;31mTypeError\u001b[0m: 'tuple' object does not support item assignment"
     ]
    }
   ],
   "source": [
    "\"\"\"\n",
    "Mutable data types can be changed after they are created. This means that the values stored in a mutable data type can be modified. \n",
    "Examples of mutable data types in Python include lists, dictionaries, and sets.\n",
    "\n",
    "Immutable data types cannot be changed after they are created.\n",
    "This means that the values stored in an immutable data type cannot be modified.\n",
    "Examples of immutable data types in Python include strings, numbers, and tuples.\n",
    "\n",
    "\"\"\"\n",
    "\n",
    "#Mutable:\n",
    "\n",
    "num = [1, 2, 3,4]\n",
    "\n",
    "num.append(5)\n",
    "\n",
    "print(num)\n",
    "\n",
    "#Immutable \n",
    "\n",
    "tup_num = (1, 2, 3,4)\n",
    "\n",
    "#raise an error:\n",
    "tup_num[0] = 5"
   ]
  },
  {
   "cell_type": "markdown",
   "id": "41c49dcb",
   "metadata": {},
   "source": [
    "9. Write a code to create the given structure using only for loop.\n"
   ]
  },
  {
   "cell_type": "code",
   "execution_count": 23,
   "id": "85568be0",
   "metadata": {},
   "outputs": [
    {
     "name": "stdout",
     "output_type": "stream",
     "text": [
      "*\n",
      "***\n",
      "*****\n",
      "*******\n",
      "*********\n"
     ]
    }
   ],
   "source": [
    "\"\"\"\n",
    "*\n",
    "***\n",
    "*****\n",
    "*******\n",
    "*********\n",
    "\n",
    "\"\"\"\n",
    "for star in range(0,5):\n",
    "    print(\"*\"* (star*2+1))"
   ]
  },
  {
   "cell_type": "markdown",
   "id": "8d14a00e",
   "metadata": {},
   "source": [
    "10. Write a code to create the given structure using while loop."
   ]
  },
  {
   "cell_type": "code",
   "execution_count": 36,
   "id": "805dd94d",
   "metadata": {},
   "outputs": [
    {
     "name": "stdout",
     "output_type": "stream",
     "text": [
      "|||||||||\n",
      "|||||||\n",
      "|||||\n",
      "|||\n",
      "|\n",
      "\n"
     ]
    }
   ],
   "source": [
    "\"\"\"\n",
    "|||||||||\n",
    "|||||||\n",
    "|||||\n",
    "|||\n",
    "|\n",
    "\n",
    "\"\"\"\n",
    "i=0\n",
    "while(i<=5):\n",
    "    print(\"|\" * (9-(i*2)))\n",
    "    i+=1"
   ]
  },
  {
   "cell_type": "code",
   "execution_count": null,
   "id": "925c23bf",
   "metadata": {},
   "outputs": [],
   "source": []
  },
  {
   "cell_type": "code",
   "execution_count": null,
   "id": "d2ed283e",
   "metadata": {},
   "outputs": [],
   "source": []
  }
 ],
 "metadata": {
  "kernelspec": {
   "display_name": "Python 3 (ipykernel)",
   "language": "python",
   "name": "python3"
  },
  "language_info": {
   "codemirror_mode": {
    "name": "ipython",
    "version": 3
   },
   "file_extension": ".py",
   "mimetype": "text/x-python",
   "name": "python",
   "nbconvert_exporter": "python",
   "pygments_lexer": "ipython3",
   "version": "3.9.12"
  }
 },
 "nbformat": 4,
 "nbformat_minor": 5
}
